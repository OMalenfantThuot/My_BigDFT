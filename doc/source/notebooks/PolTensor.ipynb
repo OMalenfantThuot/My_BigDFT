{
 "cells": [
  {
   "cell_type": "markdown",
   "metadata": {},
   "source": [
    "# Compute the polarizability tensor"
   ]
  },
  {
   "cell_type": "code",
   "execution_count": 1,
   "metadata": {},
   "outputs": [],
   "source": [
    "from mybigdft.workflows import PolTensor\n",
    "from mybigdft import Job, Posinp, Atom, InputParams"
   ]
  },
  {
   "cell_type": "code",
   "execution_count": 2,
   "metadata": {},
   "outputs": [],
   "source": [
    "pos = Posinp([Atom('N', [0, 0, 0]), Atom('N', [0, 0, 1.095])], 'angstroem', 'free')\n",
    "gs = Job(posinp=pos, name='N2', run_dir='../../../tests/pol_tensor_N2')\n",
    "pt = PolTensor(gs)"
   ]
  },
  {
   "cell_type": "code",
   "execution_count": 3,
   "metadata": {},
   "outputs": [
    {
     "name": "stdout",
     "output_type": "stream",
     "text": [
      "Automatic pdb calling has been turned ON\n",
      "/Users/maximemoriniere/Documents/Python/MyBigDFT/tests/pol_tensor_N2\n",
      "Logfile log-N2.yaml already exists!\n",
      "\n",
      "/Users/maximemoriniere/Documents/Python/MyBigDFT/tests/pol_tensor_N2\n",
      "Data directory not found for reference calculation.\n",
      "Logfile log-N2_EF_along_x.yaml already exists!\n",
      "\n",
      "/Users/maximemoriniere/Documents/Python/MyBigDFT/tests/pol_tensor_N2\n",
      "Data directory not found for reference calculation.\n",
      "Logfile log-N2_EF_along_y.yaml already exists!\n",
      "\n",
      "/Users/maximemoriniere/Documents/Python/MyBigDFT/tests/pol_tensor_N2\n",
      "Data directory not found for reference calculation.\n",
      "Logfile log-N2_EF_along_z.yaml already exists!\n",
      "\n"
     ]
    }
   ],
   "source": [
    "pt.run()"
   ]
  },
  {
   "cell_type": "code",
   "execution_count": 4,
   "metadata": {},
   "outputs": [
    {
     "data": {
      "text/plain": [
       "array([[  1.05558000e+01,  -2.00000000e-04,  -2.00000000e-04],\n",
       "       [ -2.00000000e-04,   1.05558000e+01,  -2.00000000e-04],\n",
       "       [  0.00000000e+00,   0.00000000e+00,   1.50535000e+01]])"
      ]
     },
     "execution_count": 4,
     "metadata": {},
     "output_type": "execute_result"
    }
   ],
   "source": [
    "pt.poltensor"
   ]
  },
  {
   "cell_type": "code",
   "execution_count": 5,
   "metadata": {},
   "outputs": [
    {
     "name": "stdout",
     "output_type": "stream",
     "text": [
      "N2: {}\n",
      "N2_EF_along_x: {'dft': {'elecfield': [0.0001, 0.0, 0.0]}}\n",
      "N2_EF_along_y: {'dft': {'elecfield': [0.0, 0.0001, 0.0]}}\n",
      "N2_EF_along_z: {'dft': {'elecfield': [0.0, 0.0, 0.0001]}}\n"
     ]
    }
   ],
   "source": [
    "for job in pt.queue:\n",
    "    print(f\"{job.name}: {job.inputparams}\")"
   ]
  },
  {
   "cell_type": "code",
   "execution_count": null,
   "metadata": {},
   "outputs": [],
   "source": []
  }
 ],
 "metadata": {
  "kernelspec": {
   "display_name": "Python 3",
   "language": "python",
   "name": "python3"
  },
  "language_info": {
   "codemirror_mode": {
    "name": "ipython",
    "version": 3
   },
   "file_extension": ".py",
   "mimetype": "text/x-python",
   "name": "python",
   "nbconvert_exporter": "python",
   "pygments_lexer": "ipython3",
   "version": "3.6.3"
  }
 },
 "nbformat": 4,
 "nbformat_minor": 2
}
