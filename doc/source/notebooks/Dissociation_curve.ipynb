{
 "cells": [
  {
   "cell_type": "markdown",
   "metadata": {},
   "source": [
    "# Dissociation curve\n",
    "\n",
    "MyBigDFT comes with some classes implementing particular workflows of calculations. These workflows define a queue of jobs, that can easily be run sequentially, without having to worry about the Job context manager. They also generally define a particular post-processing procedure, run after all the BigDFT calculations in order to extract some meaningful imformation.\n",
    "\n",
    "The example provided here shows how to obtain the dissociation curve of the N$_2$ molecule by using the [Dissocation](https://mmoriniere.gitlab.io/MyBigDFT/dissociation.html) class."
   ]
  },
  {
   "cell_type": "markdown",
   "metadata": {},
   "source": [
    "## Initialization\n",
    "\n",
    "You first need to import some useful classes to define a ground state calculation as well as the `Dissociation` class, that is a workflow:"
   ]
  },
  {
   "cell_type": "code",
   "execution_count": 1,
   "metadata": {},
   "outputs": [],
   "source": [
    "import numpy as np\n",
    "from mybigdft import Posinp, Atom, InputParams\n",
    "from mybigdft.workflows import Dissociation"
   ]
  },
  {
   "cell_type": "markdown",
   "metadata": {},
   "source": [
    "## The [Dissocation](https://mmoriniere.gitlab.io/MyBigDFT/dissociation.html) class\n",
    "\n",
    "This class allows to compute the dissocation curve of two subsystems. To that end, you need to define two subsystems via ``Posinp`` instances (here, both subsystems are the same nitrogen atom) and a set of distances between those two subsystems. From these data, the ``Dissociation`` class defines a queue of jobs, that differ only by the initial positions: for each specified distance between both subsytem, the second fragment is translated by that amount along the $y$ direction. This means you could study the dissociation curve of two surfaces or of a molecule or of a single atom on top of that surface. \n",
    "\n",
    "Of course, you can specify the input parameters you want to use for all these calculations, via the ``inputparams`` argument. You may also want to give a specific name to the runs and a specific folder where to run them, as usual."
   ]
  },
  {
   "cell_type": "code",
   "execution_count": 2,
   "metadata": {},
   "outputs": [],
   "source": [
    "frag1 = Posinp([Atom('N', [0.0, 0.0, 0.0])], units=\"angstroem\", boundary_conditions=\"free\")\n",
    "distances = np.arange(0.95, 1.25, 0.05)\n",
    "inp = InputParams()  # You might want to specify some non-default input parameters\n",
    "dc = Dissociation(frag1, frag1, distances, inputparams=inp,\n",
    "                  name=\"N2\", run_dir=\"N2/dissociation_curve\")"
   ]
  },
  {
   "cell_type": "markdown",
   "metadata": {},
   "source": [
    "Running the workflow is done as usual:"
   ]
  },
  {
   "cell_type": "code",
   "execution_count": 3,
   "metadata": {},
   "outputs": [
    {
     "name": "stdout",
     "output_type": "stream",
     "text": [
      "/Users/maximemoriniere/Documents/Python/MyBigDFT/doc/source/notebooks/N2/dissociation_curve/y_0.95\n",
      "Logfile log-N2.yaml already exists!\n",
      "\n",
      "/Users/maximemoriniere/Documents/Python/MyBigDFT/doc/source/notebooks/N2/dissociation_curve/y_1.0\n",
      "Logfile log-N2.yaml already exists!\n",
      "\n",
      "/Users/maximemoriniere/Documents/Python/MyBigDFT/doc/source/notebooks/N2/dissociation_curve/y_1.05\n",
      "Logfile log-N2.yaml already exists!\n",
      "\n",
      "/Users/maximemoriniere/Documents/Python/MyBigDFT/doc/source/notebooks/N2/dissociation_curve/y_1.1\n",
      "Logfile log-N2.yaml already exists!\n",
      "\n",
      "/Users/maximemoriniere/Documents/Python/MyBigDFT/doc/source/notebooks/N2/dissociation_curve/y_1.1500000000000001\n",
      "Logfile log-N2.yaml already exists!\n",
      "\n",
      "/Users/maximemoriniere/Documents/Python/MyBigDFT/doc/source/notebooks/N2/dissociation_curve/y_1.2000000000000002\n",
      "Logfile log-N2.yaml already exists!\n",
      "\n",
      "/Users/maximemoriniere/Documents/Python/MyBigDFT/doc/source/notebooks/N2/dissociation_curve/y_1.2500000000000002\n",
      "Logfile log-N2.yaml already exists!\n",
      "\n"
     ]
    }
   ],
   "source": [
    "dc.run(nmpi=6, nomp=3)"
   ]
  },
  {
   "cell_type": "markdown",
   "metadata": {},
   "source": [
    "You can check that the initial positions are as expected:"
   ]
  },
  {
   "cell_type": "code",
   "execution_count": 4,
   "metadata": {},
   "outputs": [
    {
     "name": "stdout",
     "output_type": "stream",
     "text": [
      "/Users/maximemoriniere/Documents/Python/MyBigDFT/doc/source/notebooks/N2/dissociation_curve/y_0.95 N2\n",
      "2   angstroem\n",
      "free\n",
      "N   0.0   0.0   0.0\n",
      "N   0.0   0.95   0.0\n",
      "\n",
      "/Users/maximemoriniere/Documents/Python/MyBigDFT/doc/source/notebooks/N2/dissociation_curve/y_1.0 N2\n",
      "2   angstroem\n",
      "free\n",
      "N   0.0   0.0   0.0\n",
      "N   0.0   1.0   0.0\n",
      "\n",
      "/Users/maximemoriniere/Documents/Python/MyBigDFT/doc/source/notebooks/N2/dissociation_curve/y_1.05 N2\n",
      "2   angstroem\n",
      "free\n",
      "N   0.0   0.0   0.0\n",
      "N   0.0   1.05   0.0\n",
      "\n",
      "/Users/maximemoriniere/Documents/Python/MyBigDFT/doc/source/notebooks/N2/dissociation_curve/y_1.1 N2\n",
      "2   angstroem\n",
      "free\n",
      "N   0.0   0.0   0.0\n",
      "N   0.0   1.1   0.0\n",
      "\n",
      "/Users/maximemoriniere/Documents/Python/MyBigDFT/doc/source/notebooks/N2/dissociation_curve/y_1.1500000000000001 N2\n",
      "2   angstroem\n",
      "free\n",
      "N   0.0   0.0   0.0\n",
      "N   0.0   1.15   0.0\n",
      "\n",
      "/Users/maximemoriniere/Documents/Python/MyBigDFT/doc/source/notebooks/N2/dissociation_curve/y_1.2000000000000002 N2\n",
      "2   angstroem\n",
      "free\n",
      "N   0.0   0.0   0.0\n",
      "N   0.0   1.2   0.0\n",
      "\n",
      "/Users/maximemoriniere/Documents/Python/MyBigDFT/doc/source/notebooks/N2/dissociation_curve/y_1.2500000000000002 N2\n",
      "2   angstroem\n",
      "free\n",
      "N   0.0   0.0   0.0\n",
      "N   0.0   1.25   0.0\n",
      "\n"
     ]
    }
   ],
   "source": [
    "for job in dc.queue:\n",
    "    print(job.run_dir, job.name)\n",
    "    print(job.posinp)"
   ]
  },
  {
   "cell_type": "markdown",
   "metadata": {},
   "source": [
    "The ``Dissociation`` class also has an ``energies`` attribute, storing the energy of each calculation. This is useful to plot the dissociation curve (see below)."
   ]
  },
  {
   "cell_type": "code",
   "execution_count": 5,
   "metadata": {},
   "outputs": [
    {
     "data": {
      "text/plain": [
       "[-19.805444659275025,\n",
       " -19.85497382791818,\n",
       " -19.878933352041976,\n",
       " -19.884549270710195,\n",
       " -19.877164837418295,\n",
       " -19.86087438302971,\n",
       " -19.838574516454937]"
      ]
     },
     "execution_count": 5,
     "metadata": {},
     "output_type": "execute_result"
    }
   ],
   "source": [
    "dc.energies"
   ]
  },
  {
   "cell_type": "markdown",
   "metadata": {},
   "source": [
    "A more readable summary can be done as follows (thanks to the ``distance`` attribute of each job of the queue):"
   ]
  },
  {
   "cell_type": "code",
   "execution_count": 6,
   "metadata": {},
   "outputs": [
    {
     "name": "stdout",
     "output_type": "stream",
     "text": [
      "d = 0.95 angstroem: -19.8054 Ha\n",
      "d = 1.00 angstroem: -19.8550 Ha\n",
      "d = 1.05 angstroem: -19.8789 Ha\n",
      "d = 1.10 angstroem: -19.8845 Ha\n",
      "d = 1.15 angstroem: -19.8772 Ha\n",
      "d = 1.20 angstroem: -19.8609 Ha\n",
      "d = 1.25 angstroem: -19.8386 Ha\n"
     ]
    }
   ],
   "source": [
    "for job in dc.queue:\n",
    "    print(f\"d = {job.distance:.2f} {job.posinp.units}: {job.logfile.energy:.4f} Ha\")"
   ]
  },
  {
   "cell_type": "markdown",
   "metadata": {},
   "source": [
    "The job with the minimal energy is also stored under the ``minimum`` attribute:"
   ]
  },
  {
   "cell_type": "code",
   "execution_count": 7,
   "metadata": {},
   "outputs": [
    {
     "data": {
      "text/plain": [
       "(1.1, -19.884549270710195)"
      ]
     },
     "execution_count": 7,
     "metadata": {},
     "output_type": "execute_result"
    }
   ],
   "source": [
    "dc.minimum.distance, dc.minimum.logfile.energy"
   ]
  },
  {
   "cell_type": "markdown",
   "metadata": {},
   "source": [
    "It is then easy to plot the actual dissociation curve:"
   ]
  },
  {
   "cell_type": "code",
   "execution_count": 8,
   "metadata": {},
   "outputs": [
    {
     "data": {
      "image/png": "[encoded data removed]",
      "text/plain": [
       "<matplotlib.figure.Figure at 0x11b60e5f8>"
      ]
     },
     "metadata": {},
     "output_type": "display_data"
    }
   ],
   "source": [
    "%matplotlib inline\n",
    "import matplotlib.pyplot as plt\n",
    "\n",
    "fig=plt.figure()\n",
    "fig.patch.set_facecolor('white')  # useful when dark background used on jupyter lab\n",
    "plt.plot(dc.distances, dc.energies)\n",
    "plt.xlabel(\"Distance [{}]\".format(dc.queue[0].posinp.units))\n",
    "plt.ylabel(\"Energy [Ha]\")\n",
    "plt.show()"
   ]
  },
  {
   "cell_type": "markdown",
   "metadata": {},
   "source": [
    "The results found here are as expected: when performing a geometry optimization of the N$_2$ molecule, you actually get a distance of 1.0935 $\\unicode[serif]{xC5}^4$ with default input parameters."
   ]
  },
  {
   "cell_type": "markdown",
   "metadata": {},
   "source": [
    "## Some errors are raised:"
   ]
  },
  {
   "cell_type": "markdown",
   "metadata": {},
   "source": [
    "* ### If periodic boundary conditions are used...\n",
    "\n",
    "... because it is not possible to define a distance between two fragments under such boundary conditions."
   ]
  },
  {
   "cell_type": "code",
   "execution_count": 9,
   "metadata": {},
   "outputs": [
    {
     "ename": "ValueError",
     "evalue": "Cannot compute a dissociation curve with periodic boundary conditions:\n1   angstroem\nperiodic\nN   0.0   0.0   0.0\n",
     "output_type": "error",
     "traceback": [
      "\u001b[0;31m---------------------------------------------------------------------------\u001b[0m",
      "\u001b[0;31mValueError\u001b[0m                                Traceback (most recent call last)",
      "\u001b[0;32m<ipython-input-9-4e208da571b1>\u001b[0m in \u001b[0;36m<module>\u001b[0;34m()\u001b[0m\n\u001b[1;32m      4\u001b[0m \u001b[0mfrag2\u001b[0m\u001b[0;34m.\u001b[0m\u001b[0m_boundary_conditions\u001b[0m \u001b[0;34m=\u001b[0m \u001b[0;34m\"periodic\"\u001b[0m\u001b[0;34m\u001b[0m\u001b[0m\n\u001b[1;32m      5\u001b[0m \u001b[0mdistances\u001b[0m \u001b[0;34m=\u001b[0m \u001b[0mnp\u001b[0m\u001b[0;34m.\u001b[0m\u001b[0marange\u001b[0m\u001b[0;34m(\u001b[0m\u001b[0;36m0.95\u001b[0m\u001b[0;34m,\u001b[0m \u001b[0;36m1.25\u001b[0m\u001b[0;34m,\u001b[0m \u001b[0;36m0.05\u001b[0m\u001b[0;34m)\u001b[0m\u001b[0;34m\u001b[0m\u001b[0m\n\u001b[0;32m----> 6\u001b[0;31m \u001b[0mdc3\u001b[0m \u001b[0;34m=\u001b[0m \u001b[0mDissociation\u001b[0m\u001b[0;34m(\u001b[0m\u001b[0mfrag1\u001b[0m\u001b[0;34m,\u001b[0m \u001b[0mfrag2\u001b[0m\u001b[0;34m,\u001b[0m \u001b[0mdistances\u001b[0m\u001b[0;34m)\u001b[0m\u001b[0;34m\u001b[0m\u001b[0m\n\u001b[0m",
      "\u001b[0;32m~/Documents/Python/MyBigDFT/mybigdft/workflows/dissociation.py\u001b[0m in \u001b[0;36m__init__\u001b[0;34m(self, fragment1, fragment2, distances, inputparams, name, run_dir)\u001b[0m\n\u001b[1;32m     69\u001b[0m                 raise ValueError(\n\u001b[1;32m     70\u001b[0m                     \u001b[0;34m\"Cannot compute a dissociation curve with periodic \"\u001b[0m\u001b[0;34m\u001b[0m\u001b[0m\n\u001b[0;32m---> 71\u001b[0;31m                     \"boundary conditions:\\n{}\".format(frag))\n\u001b[0m\u001b[1;32m     72\u001b[0m         \u001b[0;31m# Make sure both fragments use the same units (could actually be\u001b[0m\u001b[0;34m\u001b[0m\u001b[0;34m\u001b[0m\u001b[0m\n\u001b[1;32m     73\u001b[0m         \u001b[0;31m# implemented properly in the __add__ method of posinp)\u001b[0m\u001b[0;34m\u001b[0m\u001b[0;34m\u001b[0m\u001b[0m\n",
      "\u001b[0;31mValueError\u001b[0m: Cannot compute a dissociation curve with periodic boundary conditions:\n1   angstroem\nperiodic\nN   0.0   0.0   0.0\n"
     ]
    }
   ],
   "source": [
    "from copy import deepcopy\n",
    "frag1 = Posinp([Atom('N', [0.0, 0.0, 0.0])], units=\"angstroem\", boundary_conditions=\"free\")\n",
    "frag2 = deepcopy(frag1)\n",
    "frag2._boundary_conditions = \"periodic\"\n",
    "distances = np.arange(0.95, 1.25, 0.05)\n",
    "dc3 = Dissociation(frag1, frag2, distances)"
   ]
  },
  {
   "cell_type": "markdown",
   "metadata": {},
   "source": [
    "* ### If units differ...\n",
    "\n",
    "... because the unit conversion is not yet implemented!"
   ]
  },
  {
   "cell_type": "code",
   "execution_count": 10,
   "metadata": {},
   "outputs": [
    {
     "ename": "NotImplementedError",
     "evalue": "Unit conversion of positions needed",
     "output_type": "error",
     "traceback": [
      "\u001b[0;31m---------------------------------------------------------------------------\u001b[0m",
      "\u001b[0;31mNotImplementedError\u001b[0m                       Traceback (most recent call last)",
      "\u001b[0;32m<ipython-input-10-072a4efcd7d5>\u001b[0m in \u001b[0;36m<module>\u001b[0;34m()\u001b[0m\n\u001b[1;32m      4\u001b[0m \u001b[0mfrag2\u001b[0m\u001b[0;34m.\u001b[0m\u001b[0m_units\u001b[0m \u001b[0;34m=\u001b[0m \u001b[0;34m\"atomic\"\u001b[0m\u001b[0;34m\u001b[0m\u001b[0m\n\u001b[1;32m      5\u001b[0m \u001b[0mdistances\u001b[0m \u001b[0;34m=\u001b[0m \u001b[0mnp\u001b[0m\u001b[0;34m.\u001b[0m\u001b[0marange\u001b[0m\u001b[0;34m(\u001b[0m\u001b[0;36m0.95\u001b[0m\u001b[0;34m,\u001b[0m \u001b[0;36m1.25\u001b[0m\u001b[0;34m,\u001b[0m \u001b[0;36m0.05\u001b[0m\u001b[0;34m)\u001b[0m\u001b[0;34m\u001b[0m\u001b[0m\n\u001b[0;32m----> 6\u001b[0;31m \u001b[0mdc2\u001b[0m \u001b[0;34m=\u001b[0m \u001b[0mDissociation\u001b[0m\u001b[0;34m(\u001b[0m\u001b[0mfrag1\u001b[0m\u001b[0;34m,\u001b[0m \u001b[0mfrag2\u001b[0m\u001b[0;34m,\u001b[0m \u001b[0mdistances\u001b[0m\u001b[0;34m)\u001b[0m\u001b[0;34m\u001b[0m\u001b[0m\n\u001b[0m",
      "\u001b[0;32m~/Documents/Python/MyBigDFT/mybigdft/workflows/dissociation.py\u001b[0m in \u001b[0;36m__init__\u001b[0;34m(self, fragment1, fragment2, distances, inputparams, name, run_dir)\u001b[0m\n\u001b[1;32m     74\u001b[0m         \u001b[0;32mif\u001b[0m \u001b[0mfragment1\u001b[0m\u001b[0;34m.\u001b[0m\u001b[0munits\u001b[0m \u001b[0;34m!=\u001b[0m \u001b[0mfragment2\u001b[0m\u001b[0;34m.\u001b[0m\u001b[0munits\u001b[0m\u001b[0;34m:\u001b[0m\u001b[0;34m\u001b[0m\u001b[0m\n\u001b[1;32m     75\u001b[0m             raise NotImplementedError(\n\u001b[0;32m---> 76\u001b[0;31m                 \"Unit conversion of positions needed\")  # pragma: no cover\n\u001b[0m\u001b[1;32m     77\u001b[0m         \u001b[0;31m# Set the base attributes that are specific to this workflow\u001b[0m\u001b[0;34m\u001b[0m\u001b[0;34m\u001b[0m\u001b[0m\n\u001b[1;32m     78\u001b[0m         \u001b[0mself\u001b[0m\u001b[0;34m.\u001b[0m\u001b[0mfragment1\u001b[0m \u001b[0;34m=\u001b[0m \u001b[0mfragment1\u001b[0m\u001b[0;34m\u001b[0m\u001b[0m\n",
      "\u001b[0;31mNotImplementedError\u001b[0m: Unit conversion of positions needed"
     ]
    }
   ],
   "source": [
    "from copy import deepcopy\n",
    "frag1 = Posinp([Atom('N', [0.0, 0.0, 0.0])], units=\"angstroem\", boundary_conditions=\"free\")\n",
    "frag2 = deepcopy(frag1)\n",
    "frag2._units = \"atomic\"\n",
    "distances = np.arange(0.95, 1.25, 0.05)\n",
    "dc2 = Dissociation(frag1, frag2, distances)"
   ]
  }
 ],
 "metadata": {
  "kernelspec": {
   "display_name": "Python 3",
   "language": "python",
   "name": "python3"
  },
  "language_info": {
   "codemirror_mode": {
    "name": "ipython",
    "version": 3
   },
   "file_extension": ".py",
   "mimetype": "text/x-python",
   "name": "python",
   "nbconvert_exporter": "python",
   "pygments_lexer": "ipython3",
   "version": "3.6.3"
  }
 },
 "nbformat": 4,
 "nbformat_minor": 2
}
