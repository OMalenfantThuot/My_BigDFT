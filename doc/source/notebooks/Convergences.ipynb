{
 "cells": [
  {
   "cell_type": "markdown",
   "metadata": {},
   "source": [
    "# Convergence classes\n",
    "\n",
    "BigDFT uses wavelets on a discretization grid to represent the wavefunction and density of the electronic system. The key parameters of a BigDFT calculation therefore are the grid spacing (noted `hgrids`) and the grid extension (noted `rmult`). The convergence of a given BigDFT calculation with respect to those two parameters can easily be studied via two classes: [HgridsConvergence](https://mmoriniere.gitlab.io/MyBigDFT/hgrids_convergence.html) and [RmultConvergence](https://mmoriniere.gitlab.io/MyBigDFT/rmult_convergence.html). Both will be used here in the case of the N$_2$ molecule with the LDA exchange-correlation potential."
   ]
  },
  {
   "cell_type": "code",
   "execution_count": 1,
   "metadata": {},
   "outputs": [],
   "source": [
    "# Import the relevant modules, classes and constant.\n",
    "import numpy as np\n",
    "import matplotlib.pyplot as plt\n",
    "from mybigdft import Posinp, Atom, InputParams, Job\n",
    "from mybigdft.globals import EV_TO_HA"
   ]
  },
  {
   "cell_type": "markdown",
   "metadata": {},
   "source": [
    "## hgrids convergence\n",
    "\n",
    "The `HgridsConvergence` class allows to run all the necessary calculations to determine the largest `hgrids` which must be used so that the energy error compared to the reference calculation (with the lowest `hgrids` considered) lie within the required precision per atom. Using the largest `hgrids` as possible allows to save computational time because there are less grid points (or degrees of freedom)."
   ]
  },
  {
   "cell_type": "code",
   "execution_count": 2,
   "metadata": {},
   "outputs": [],
   "source": [
    "from mybigdft.workflows.convergences import HgridsConvergence\n",
    "\n",
    "atoms = [Atom('N', [0, 0, 0]), Atom('N', [0, 0, 1.1])]\n",
    "pos = Posinp(atoms, units=\"angstroem\", boundary_conditions=\"free\")\n",
    "inp = InputParams()\n",
    "base = Job(inputparams=inp, posinp=pos, run_dir=\"N2/hgrids_convergence\", name=\"N2\")\n",
    "hgc = HgridsConvergence(base, [0.24]*3, [0.5]*3, 14, precision_per_atom=0.01*EV_TO_HA)"
   ]
  },
  {
   "cell_type": "markdown",
   "metadata": {},
   "source": [
    "The jobs in the queue have an extra attribute `hgrids`:"
   ]
  },
  {
   "cell_type": "code",
   "execution_count": 3,
   "metadata": {},
   "outputs": [
    {
     "name": "stdout",
     "output_type": "stream",
     "text": [
      "[0.24, 0.24, 0.24]\n",
      "[0.26, 0.26, 0.26]\n",
      "[0.27999999999999997, 0.27999999999999997, 0.27999999999999997]\n",
      "[0.3, 0.3, 0.3]\n",
      "[0.32, 0.32, 0.32]\n",
      "[0.33999999999999997, 0.33999999999999997, 0.33999999999999997]\n",
      "[0.36, 0.36, 0.36]\n",
      "[0.38, 0.38, 0.38]\n",
      "[0.4, 0.4, 0.4]\n",
      "[0.42, 0.42, 0.42]\n",
      "[0.44, 0.44, 0.44]\n",
      "[0.46, 0.46, 0.46]\n",
      "[0.48, 0.48, 0.48]\n",
      "[0.5, 0.5, 0.5]\n"
     ]
    }
   ],
   "source": [
    "for job in hgc.queue:\n",
    "    print(job.hgrids)"
   ]
  },
  {
   "cell_type": "markdown",
   "metadata": {},
   "source": [
    "You can run the calculations as usual:"
   ]
  },
  {
   "cell_type": "code",
   "execution_count": 4,
   "metadata": {},
   "outputs": [
    {
     "name": "stdout",
     "output_type": "stream",
     "text": [
      "/Users/maximemoriniere/Documents/Python/MyBigDFT/doc/source/notebooks/N2/hgrids_convergence/0.24_0.24_0.24\n",
      "Logfile log-N2.yaml already exists!\n",
      "\n",
      "/Users/maximemoriniere/Documents/Python/MyBigDFT/doc/source/notebooks/N2/hgrids_convergence/0.26_0.26_0.26\n",
      "Logfile log-N2.yaml already exists!\n",
      "\n",
      "/Users/maximemoriniere/Documents/Python/MyBigDFT/doc/source/notebooks/N2/hgrids_convergence/0.27999999999999997_0.27999999999999997_0.27999999999999997\n",
      "Logfile log-N2.yaml already exists!\n",
      "\n",
      "/Users/maximemoriniere/Documents/Python/MyBigDFT/doc/source/notebooks/N2/hgrids_convergence/0.3_0.3_0.3\n",
      "Logfile log-N2.yaml already exists!\n",
      "\n",
      "/Users/maximemoriniere/Documents/Python/MyBigDFT/doc/source/notebooks/N2/hgrids_convergence/0.32_0.32_0.32\n",
      "Logfile log-N2.yaml already exists!\n",
      "\n",
      "/Users/maximemoriniere/Documents/Python/MyBigDFT/doc/source/notebooks/N2/hgrids_convergence/0.33999999999999997_0.33999999999999997_0.33999999999999997\n",
      "Logfile log-N2.yaml already exists!\n",
      "\n",
      "/Users/maximemoriniere/Documents/Python/MyBigDFT/doc/source/notebooks/N2/hgrids_convergence/0.36_0.36_0.36\n",
      "Logfile log-N2.yaml already exists!\n",
      "\n",
      "/Users/maximemoriniere/Documents/Python/MyBigDFT/doc/source/notebooks/N2/hgrids_convergence/0.38_0.38_0.38\n",
      "Logfile log-N2.yaml already exists!\n",
      "\n",
      "/Users/maximemoriniere/Documents/Python/MyBigDFT/doc/source/notebooks/N2/hgrids_convergence/0.4_0.4_0.4\n",
      "Logfile log-N2.yaml already exists!\n",
      "\n",
      "/Users/maximemoriniere/Documents/Python/MyBigDFT/doc/source/notebooks/N2/hgrids_convergence/0.42_0.42_0.42\n",
      "Logfile log-N2.yaml already exists!\n",
      "\n",
      "/Users/maximemoriniere/Documents/Python/MyBigDFT/doc/source/notebooks/N2/hgrids_convergence/0.44_0.44_0.44\n",
      "Logfile log-N2.yaml already exists!\n",
      "\n",
      "/Users/maximemoriniere/Documents/Python/MyBigDFT/doc/source/notebooks/N2/hgrids_convergence/0.46_0.46_0.46\n",
      "Logfile log-N2.yaml already exists!\n",
      "\n",
      "/Users/maximemoriniere/Documents/Python/MyBigDFT/doc/source/notebooks/N2/hgrids_convergence/0.48_0.48_0.48\n",
      "Logfile log-N2.yaml already exists!\n",
      "\n",
      "/Users/maximemoriniere/Documents/Python/MyBigDFT/doc/source/notebooks/N2/hgrids_convergence/0.5_0.5_0.5\n",
      "Logfile log-N2.yaml already exists!\n",
      "\n"
     ]
    }
   ],
   "source": [
    "hgc.run(nmpi=6, nomp=3)"
   ]
  },
  {
   "cell_type": "markdown",
   "metadata": {},
   "source": [
    "Once the calculations are performed, a converged job is determined. It corresponds to the one with the largest `hgrids` so that the total energy of the system is below the convergence threshold, defined by the sum of the minimal energy found (for the smallest `hgrids`) and the user defined precision per atom. It can be accessed via the `converged` attribute:"
   ]
  },
  {
   "cell_type": "code",
   "execution_count": 5,
   "metadata": {},
   "outputs": [
    {
     "data": {
      "text/plain": [
       "[0.36, 0.36, 0.36]"
      ]
     },
     "execution_count": 5,
     "metadata": {},
     "output_type": "execute_result"
    }
   ],
   "source": [
    "hgc.converged.hgrids"
   ]
  },
  {
   "cell_type": "markdown",
   "metadata": {},
   "source": [
    "The result of the previous cell shows that `hgrids = 0.36` gives converged results. To make sure that everything ran as expected, all the relevant data can be accessed as follows:"
   ]
  },
  {
   "cell_type": "code",
   "execution_count": 6,
   "metadata": {},
   "outputs": [
    {
     "name": "stdout",
     "output_type": "stream",
     "text": [
      "[0.24, 0.24, 0.24]: error=0.00e+00, threshold=3.67e-04, is_converged=True\n",
      "[0.26, 0.26, 0.26]: error=3.74e-07, threshold=3.67e-04, is_converged=True\n",
      "[0.28, 0.28, 0.28]: error=2.63e-05, threshold=3.67e-04, is_converged=True\n",
      "[0.30, 0.30, 0.30]: error=4.53e-05, threshold=3.67e-04, is_converged=True\n",
      "[0.32, 0.32, 0.32]: error=1.23e-04, threshold=3.67e-04, is_converged=True\n",
      "[0.34, 0.34, 0.34]: error=1.87e-04, threshold=3.67e-04, is_converged=True\n",
      "[0.36, 0.36, 0.36]: error=3.46e-04, threshold=3.67e-04, is_converged=True\n",
      "[0.38, 0.38, 0.38]: error=5.88e-04, threshold=3.67e-04, is_converged=False\n",
      "[0.40, 0.40, 0.40]: error=8.43e-04, threshold=3.67e-04, is_converged=False\n",
      "[0.42, 0.42, 0.42]: error=1.22e-03, threshold=3.67e-04, is_converged=False\n",
      "[0.44, 0.44, 0.44]: error=1.84e-03, threshold=3.67e-04, is_converged=False\n",
      "[0.46, 0.46, 0.46]: error=2.56e-03, threshold=3.67e-04, is_converged=False\n",
      "[0.48, 0.48, 0.48]: error=3.45e-03, threshold=3.67e-04, is_converged=False\n",
      "[0.50, 0.50, 0.50]: error=4.73e-03, threshold=3.67e-04, is_converged=False\n"
     ]
    }
   ],
   "source": [
    "n_at = len(hgc.converged.posinp)\n",
    "for job in hgc.queue:\n",
    "    print(\"[{:.2f}, {:.2f}, {:.2f}]: error={:.2e}, threshold={:.2e}, is_converged={}\"\n",
    "          .format(*job.hgrids, (job.logfile.energy-hgc.queue[0].logfile.energy)/n_at,\n",
    "                  hgc.precision_per_atom, job.is_converged))"
   ]
  },
  {
   "cell_type": "markdown",
   "metadata": {},
   "source": [
    "It shows that everything ran as expected: the calculation with `hgrids = 0.36` has the largest `hgrids` while still having an energy below the requested threshold."
   ]
  },
  {
   "cell_type": "markdown",
   "metadata": {},
   "source": [
    "### Plotting the convergence\n",
    "\n",
    "The figure below shows the convergence of the total energy of the N$_2$ system with respect to `hgrids`. The threshold value is also shown for comparison."
   ]
  },
  {
   "cell_type": "code",
   "execution_count": 7,
   "metadata": {},
   "outputs": [
    {
     "data": {
      "image/png": "[encoded data removed]",
      "text/plain": [
       "<matplotlib.figure.Figure at 0x11db93fd0>"
      ]
     },
     "metadata": {},
     "output_type": "display_data"
    }
   ],
   "source": [
    "energies = [job.logfile.energy for job in hgc.queue]\n",
    "hgrids = [job.hgrids for job in hgc.queue]\n",
    "simple_hgrids = [hgrid[0] for hgrid in hgrids]\n",
    "converged_energy = min(energies) + len(hgc.queue[0].posinp)*hgc.precision_per_atom\n",
    "\n",
    "fig=plt.figure()\n",
    "fig.patch.set_facecolor('white')  # When dark background\n",
    "plt.plot(simple_hgrids, energies, label=\"BigDFT results\", marker=\"o\", linestyle='')\n",
    "plt.plot(simple_hgrids, [converged_energy]*len(energies), label=\"Convergence threshold (Ha)\")\n",
    "plt.xlabel(\"hgrid along $x$\")\n",
    "plt.ylabel(\"Energy (Ha)\")\n",
    "plt.legend()\n",
    "plt.show()"
   ]
  },
  {
   "cell_type": "markdown",
   "metadata": {},
   "source": [
    "### Fitting the convergence\n",
    "\n",
    "One can fit the convergence curve with scipy. Different laws are used here (polynomial and exponential). The resulting fits are not that convincing because their precision is lower than the expected precision."
   ]
  },
  {
   "cell_type": "code",
   "execution_count": 8,
   "metadata": {},
   "outputs": [],
   "source": [
    "from scipy.optimize import curve_fit"
   ]
  },
  {
   "cell_type": "markdown",
   "metadata": {},
   "source": [
    "#### Order 4 polynomial fit"
   ]
  },
  {
   "cell_type": "code",
   "execution_count": 9,
   "metadata": {},
   "outputs": [
    {
     "name": "stdout",
     "output_type": "stream",
     "text": [
      "converged_energy = -19.871951242440776\n"
     ]
    }
   ],
   "source": [
    "results = curve_fit(lambda t,a,b,c,d,e: a+b*t+c*t**2+d*t**3+e*t**4, simple_hgrids, energies)\n",
    "print(\"converged_energy = {}\".format(results[0][0]))"
   ]
  },
  {
   "cell_type": "code",
   "execution_count": 10,
   "metadata": {},
   "outputs": [
    {
     "data": {
      "image/png": "[encoded data removed]",
      "text/plain": [
       "<matplotlib.figure.Figure at 0x1217c46d8>"
      ]
     },
     "metadata": {},
     "output_type": "display_data"
    }
   ],
   "source": [
    "[a, b, c, d, e] = results[0].tolist()\n",
    "t = np.array(simple_hgrids)\n",
    "fit = a+b*t+c*t**2+d*t**3+e*t**4\n",
    "\n",
    "fig=plt.figure()\n",
    "fig.patch.set_facecolor('white')\n",
    "plt.plot(simple_hgrids, energies, label=\"BigDFT results\", marker=\"o\", linestyle='')\n",
    "plt.plot(simple_hgrids, fit, label=\"Order 4 polynomial fit\")\n",
    "plt.xlabel(\"hgrid along $x$\")\n",
    "plt.ylabel(\"Energy (Ha)\")\n",
    "plt.legend()\n",
    "plt.show()"
   ]
  },
  {
   "cell_type": "markdown",
   "metadata": {},
   "source": [
    "#### Order 3 polynomial fit"
   ]
  },
  {
   "cell_type": "code",
   "execution_count": 11,
   "metadata": {},
   "outputs": [
    {
     "name": "stdout",
     "output_type": "stream",
     "text": [
      "converged_energy = -19.91198997626724\n"
     ]
    }
   ],
   "source": [
    "results = curve_fit(lambda t,a,b,c,d: a+b*t+c*t**2+d*t**3, simple_hgrids, energies)\n",
    "print(\"converged_energy = {}\".format(results[0][0]))"
   ]
  },
  {
   "cell_type": "code",
   "execution_count": 12,
   "metadata": {},
   "outputs": [
    {
     "data": {
      "image/png": "[encoded data removed]",
      "text/plain": [
       "<matplotlib.figure.Figure at 0x1218049b0>"
      ]
     },
     "metadata": {},
     "output_type": "display_data"
    }
   ],
   "source": [
    "[a, b, c, d] = results[0].tolist()\n",
    "t = np.array(simple_hgrids)\n",
    "fit = a+b*t+c*t**2+d*t**3\n",
    "\n",
    "fig=plt.figure()\n",
    "fig.patch.set_facecolor('white')\n",
    "plt.plot(simple_hgrids, energies, label=\"BigDFT results\", marker=\"o\", linestyle='')\n",
    "plt.plot(simple_hgrids, fit, label=\"Order 3 polynomial fit\")\n",
    "plt.xlabel(\"hgrid along $x$\")\n",
    "plt.ylabel(\"Energy (Ha)\")\n",
    "plt.legend()\n",
    "plt.show()"
   ]
  },
  {
   "cell_type": "markdown",
   "metadata": {},
   "source": [
    "#### Exponential fit"
   ]
  },
  {
   "cell_type": "code",
   "execution_count": 13,
   "metadata": {},
   "outputs": [
    {
     "name": "stdout",
     "output_type": "stream",
     "text": [
      "converged_energy = -19.898196464679767\n"
     ]
    }
   ],
   "source": [
    "results = curve_fit(lambda t,a,b: a*np.exp(b*t), simple_hgrids, energies)\n",
    "print(\"converged_energy = {}\".format(results[0][0]))"
   ]
  },
  {
   "cell_type": "code",
   "execution_count": 14,
   "metadata": {},
   "outputs": [
    {
     "data": {
      "image/png": "[encoded data removed]",
      "text/plain": [
       "<matplotlib.figure.Figure at 0x1219aa9e8>"
      ]
     },
     "metadata": {},
     "output_type": "display_data"
    }
   ],
   "source": [
    "[a, b] = results[0].tolist()\n",
    "t = np.array(simple_hgrids)\n",
    "fit = a*np.exp(b*t)\n",
    "\n",
    "fig=plt.figure()\n",
    "fig.patch.set_facecolor('white')\n",
    "plt.plot(simple_hgrids, energies, label=\"BigDFT results\", marker=\"o\", linestyle='')\n",
    "plt.plot(simple_hgrids, fit, label=\"Exponential fit\")\n",
    "plt.xlabel(\"hgrid along $x$\")\n",
    "plt.ylabel(\"Energy (Ha)\")\n",
    "plt.legend()\n",
    "plt.show()"
   ]
  },
  {
   "cell_type": "markdown",
   "metadata": {},
   "source": [
    "## rmult convergence\n",
    "    \n",
    "The `RmultConvergence` class allows to run all the necessary calculations to determine the smallest grid extensions which must be used so that the energy error compared to the reference calculation (with the lowest `hgrids` considered) lie within the required precision per atom. Using the smallest `rmult` as possible allows to save computational time because there are less grid points (or degrees of freedom). There are actually two grids centered on the atoms of the system: a coarse grid, with a shorter extension and one fine grid, with a longer extension.\n",
    "\n",
    "We use a tighter precision per atom here (1 meV instead of 10 meV) in order to make sure that the accuracy achieved with the `hgrids` does not increase too much."
   ]
  },
  {
   "cell_type": "code",
   "execution_count": 15,
   "metadata": {},
   "outputs": [],
   "source": [
    "from mybigdft.workflows.convergences import RmultConvergence\n",
    "\n",
    "atoms = [Atom('N', [0, 0, 0]), Atom('N', [0, 0, 1.1])]\n",
    "pos = Posinp(atoms, units=\"angstroem\", boundary_conditions=\"free\")\n",
    "inp = InputParams({\"dft\": {\"hgrids\": hgc.converged.hgrids}})\n",
    "base = Job(inputparams=inp, posinp=pos, run_dir=\"N2/rmult_convergence\", name=\"N2\")\n",
    "rmc = RmultConvergence(base, [4, 6], [7, 9], 4, precision_per_atom=0.001*EV_TO_HA)"
   ]
  },
  {
   "cell_type": "markdown",
   "metadata": {},
   "source": [
    "The jobs in the queue have an extra attribute `rmult`:"
   ]
  },
  {
   "cell_type": "code",
   "execution_count": 16,
   "metadata": {},
   "outputs": [
    {
     "name": "stdout",
     "output_type": "stream",
     "text": [
      "[4.0, 6.0]\n",
      "[5.0, 7.0]\n",
      "[6.0, 8.0]\n",
      "[7.0, 9.0]\n"
     ]
    }
   ],
   "source": [
    "for job in rmc.queue:\n",
    "    print(job.rmult)"
   ]
  },
  {
   "cell_type": "markdown",
   "metadata": {},
   "source": [
    "You can run the calculations as usual:"
   ]
  },
  {
   "cell_type": "code",
   "execution_count": 17,
   "metadata": {},
   "outputs": [
    {
     "name": "stdout",
     "output_type": "stream",
     "text": [
      "/Users/maximemoriniere/Documents/Python/MyBigDFT/doc/source/notebooks/N2/rmult_convergence/4.0_6.0\n",
      "Logfile log-N2.yaml already exists!\n",
      "\n",
      "/Users/maximemoriniere/Documents/Python/MyBigDFT/doc/source/notebooks/N2/rmult_convergence/5.0_7.0\n",
      "Logfile log-N2.yaml already exists!\n",
      "\n",
      "/Users/maximemoriniere/Documents/Python/MyBigDFT/doc/source/notebooks/N2/rmult_convergence/6.0_8.0\n",
      "Logfile log-N2.yaml already exists!\n",
      "\n",
      "/Users/maximemoriniere/Documents/Python/MyBigDFT/doc/source/notebooks/N2/rmult_convergence/7.0_9.0\n",
      "Logfile log-N2.yaml already exists!\n",
      "\n"
     ]
    }
   ],
   "source": [
    "rmc.run(nmpi=6, nomp=3)"
   ]
  },
  {
   "cell_type": "markdown",
   "metadata": {},
   "source": [
    "Once the calculations are performed, a converged job is determined. It corresponds to the one with the smallest `rmult` so that the total energy of the system is below the convergence threshold, defined by the sum of the energy found for the largest `rmult` and the user defined precision per atom. It can be accessed via the `converged` attribute:"
   ]
  },
  {
   "cell_type": "code",
   "execution_count": 18,
   "metadata": {},
   "outputs": [
    {
     "data": {
      "text/plain": [
       "[6.0, 8.0]"
      ]
     },
     "execution_count": 18,
     "metadata": {},
     "output_type": "execute_result"
    }
   ],
   "source": [
    "rmc.converged.rmult"
   ]
  },
  {
   "cell_type": "markdown",
   "metadata": {},
   "source": [
    "The result of the previous cell shows that `rmult = [6.0, 8.0]` gives converged results. To make sure that everything ran as expected, all the relevant data can be accessed as follows:"
   ]
  },
  {
   "cell_type": "code",
   "execution_count": 19,
   "metadata": {},
   "outputs": [
    {
     "name": "stdout",
     "output_type": "stream",
     "text": [
      "[4.0, 6.0]: error=1.95e-03, threshold=3.67e-05, is_converged=False\n",
      "[5.0, 7.0]: error=1.59e-04, threshold=3.67e-05, is_converged=False\n",
      "[6.0, 8.0]: error=1.23e-05, threshold=3.67e-05, is_converged=True\n",
      "[7.0, 9.0]: error=0.00e+00, threshold=3.67e-05, is_converged=True\n"
     ]
    }
   ],
   "source": [
    "n_at = len(rmc.converged.posinp)\n",
    "for job in rmc.queue:\n",
    "    print(\"[{:.1f}, {:.1f}]: error={:.2e}, threshold={:.2e}, is_converged={}\"\n",
    "          .format(*job.rmult, (job.logfile.energy-rmc.queue[-1].logfile.energy)/n_at,\n",
    "                  rmc.precision_per_atom, job.is_converged))"
   ]
  },
  {
   "cell_type": "markdown",
   "metadata": {},
   "source": [
    "### Plotting the convergence\n",
    "\n",
    "The figure below shows the convergence of the total energy of the N$_2$ system with respect to the rmult. The threshold is also shown for comparison."
   ]
  },
  {
   "cell_type": "code",
   "execution_count": 20,
   "metadata": {},
   "outputs": [
    {
     "data": {
      "image/png": "[encoded data removed]",
      "text/plain": [
       "<matplotlib.figure.Figure at 0x121cddf98>"
      ]
     },
     "metadata": {},
     "output_type": "display_data"
    }
   ],
   "source": [
    "energies = [job.logfile.energy for job in rmc.queue]\n",
    "rmults = [job.rmult for job in rmc.queue]\n",
    "frmult = [rmult[0] for rmult in rmults]\n",
    "converged_energy = min(energies) + len(rmc.queue[0].posinp)*rmc.precision_per_atom\n",
    "\n",
    "fig=plt.figure()\n",
    "fig.patch.set_facecolor('white')  # When dark background\n",
    "plt.plot(frmult, energies, label=\"BigDFT results\", marker=\"o\", linestyle='')\n",
    "plt.plot(frmult, [converged_energy]*len(energies), label=\"Convergence threshold (Ha)\")\n",
    "plt.xlabel(\"frmult\")\n",
    "plt.ylabel(\"Energy (Ha)\")\n",
    "plt.legend()\n",
    "plt.show()"
   ]
  },
  {
   "cell_type": "markdown",
   "metadata": {},
   "source": [
    "From there, one sees that using `rmult = [6.0, 8.0]` and `hgrids = 0.36` gives converged results.\n",
    "\n",
    "Remember that there are actually two grids: one known as the fine grid, the other being the coarse one. The former is more expensive (from a computational point of view) than the latter, and should therefore have a smaller extension. One could perform a more refined rmult convergence by testing the convergence with respect to the fine and then coarse grid extensions."
   ]
  },
  {
   "cell_type": "markdown",
   "metadata": {},
   "source": [
    "### frmult convergence\n",
    "\n",
    "Let us start with the convergence of the fine grid:"
   ]
  },
  {
   "cell_type": "code",
   "execution_count": 21,
   "metadata": {},
   "outputs": [],
   "source": [
    "crm = rmc.converged.rmult[1]  # Let us use the previous converged extension for the coarse grid\n",
    "frmc = RmultConvergence(base, [crm-4, crm], [crm, crm], 5, precision_per_atom=0.001*EV_TO_HA)"
   ]
  },
  {
   "cell_type": "code",
   "execution_count": 22,
   "metadata": {},
   "outputs": [
    {
     "name": "stdout",
     "output_type": "stream",
     "text": [
      "/Users/maximemoriniere/Documents/Python/MyBigDFT/doc/source/notebooks/N2/rmult_convergence/4.0_8.0\n",
      "Logfile log-N2.yaml already exists!\n",
      "\n",
      "/Users/maximemoriniere/Documents/Python/MyBigDFT/doc/source/notebooks/N2/rmult_convergence/5.0_8.0\n",
      "Logfile log-N2.yaml already exists!\n",
      "\n",
      "/Users/maximemoriniere/Documents/Python/MyBigDFT/doc/source/notebooks/N2/rmult_convergence/6.0_8.0\n",
      "Logfile log-N2.yaml already exists!\n",
      "\n",
      "/Users/maximemoriniere/Documents/Python/MyBigDFT/doc/source/notebooks/N2/rmult_convergence/7.0_8.0\n",
      "Logfile log-N2.yaml already exists!\n",
      "\n",
      "/Users/maximemoriniere/Documents/Python/MyBigDFT/doc/source/notebooks/N2/rmult_convergence/8.0_8.0\n",
      "Logfile log-N2.yaml already exists!\n",
      "\n"
     ]
    }
   ],
   "source": [
    "frmc.run(nmpi=6, nomp=3)"
   ]
  },
  {
   "cell_type": "markdown",
   "metadata": {},
   "source": [
    "Nothing changed: the 6.0 `rmult` for the fine grid still gives converged results:"
   ]
  },
  {
   "cell_type": "code",
   "execution_count": 23,
   "metadata": {},
   "outputs": [
    {
     "name": "stdout",
     "output_type": "stream",
     "text": [
      "[4.0, 8.0]: error=1.93e-03, threshold=3.67e-05, is_converged=False\n",
      "[5.0, 8.0]: error=1.61e-04, threshold=3.67e-05, is_converged=False\n",
      "[6.0, 8.0]: error=1.41e-05, threshold=3.67e-05, is_converged=True\n",
      "[7.0, 8.0]: error=2.06e-06, threshold=3.67e-05, is_converged=True\n",
      "[8.0, 8.0]: error=0.00e+00, threshold=3.67e-05, is_converged=True\n"
     ]
    }
   ],
   "source": [
    "n_at = len(frmc.converged.posinp)\n",
    "for job in frmc.queue:\n",
    "    print(\"[{:.1f}, {:.1f}]: error={:.2e}, threshold={:.2e}, is_converged={}\"\n",
    "          .format(*job.rmult, (job.logfile.energy-frmc.queue[-1].logfile.energy)/n_at,\n",
    "                  frmc.precision_per_atom, job.is_converged))"
   ]
  },
  {
   "cell_type": "code",
   "execution_count": 24,
   "metadata": {},
   "outputs": [
    {
     "data": {
      "image/png": "[encoded data removed]",
      "text/plain": [
       "<matplotlib.figure.Figure at 0x121cd9400>"
      ]
     },
     "metadata": {},
     "output_type": "display_data"
    }
   ],
   "source": [
    "energies = [job.logfile.energy for job in frmc.queue]\n",
    "rmults = [job.rmult for job in frmc.queue]\n",
    "frmult = [rmult[0] for rmult in rmults]\n",
    "converged_energy = min(energies) + len(frmc.queue[0].posinp)*frmc.precision_per_atom\n",
    "\n",
    "fig=plt.figure()\n",
    "fig.patch.set_facecolor('white')  # When dark background\n",
    "plt.plot(frmult, energies, label=\"BigDFT results\", marker=\"o\", linestyle='')\n",
    "plt.plot(frmult, [converged_energy]*len(energies), label=\"Convergence threshold (Ha)\")\n",
    "plt.xlabel(\"frmult\")\n",
    "plt.ylabel(\"Energy (Ha)\")\n",
    "plt.legend()\n",
    "plt.show()"
   ]
  },
  {
   "cell_type": "markdown",
   "metadata": {},
   "source": [
    "### crmult convergence\n",
    "\n",
    "Let us now perform the convergence with respect to the coarse grid multiplying factor:"
   ]
  },
  {
   "cell_type": "code",
   "execution_count": 25,
   "metadata": {},
   "outputs": [],
   "source": [
    "frm = frmc.converged.rmult[0]  # Starting from the converged frmult found above\n",
    "crmc = RmultConvergence(base, [frm, frm-2], [frm, max(crm, frm+2)], 5, precision_per_atom=0.001*EV_TO_HA)"
   ]
  },
  {
   "cell_type": "code",
   "execution_count": 26,
   "metadata": {},
   "outputs": [
    {
     "name": "stdout",
     "output_type": "stream",
     "text": [
      "/Users/maximemoriniere/Documents/Python/MyBigDFT/doc/source/notebooks/N2/rmult_convergence/6.0_4.0\n",
      "Logfile log-N2.yaml already exists!\n",
      "\n",
      "/Users/maximemoriniere/Documents/Python/MyBigDFT/doc/source/notebooks/N2/rmult_convergence/6.0_5.0\n",
      "Logfile log-N2.yaml already exists!\n",
      "\n",
      "/Users/maximemoriniere/Documents/Python/MyBigDFT/doc/source/notebooks/N2/rmult_convergence/6.0_6.0\n",
      "Logfile log-N2.yaml already exists!\n",
      "\n",
      "/Users/maximemoriniere/Documents/Python/MyBigDFT/doc/source/notebooks/N2/rmult_convergence/6.0_7.0\n",
      "Logfile log-N2.yaml already exists!\n",
      "\n",
      "/Users/maximemoriniere/Documents/Python/MyBigDFT/doc/source/notebooks/N2/rmult_convergence/6.0_8.0\n",
      "Logfile log-N2.yaml already exists!\n",
      "\n"
     ]
    },
    {
     "name": "stderr",
     "output_type": "stream",
     "text": [
      "/Users/maximemoriniere/Documents/Python/MyBigDFT/mybigdft/workflows/convergences.py:352: UserWarning: The job with minimal energy does not correspond to the job with maximal rmult\n",
      "  \"to the job with maximal rmult\", UserWarning)\n"
     ]
    }
   ],
   "source": [
    "crmc.run(nmpi=6, nomp=3)"
   ]
  },
  {
   "cell_type": "code",
   "execution_count": 27,
   "metadata": {},
   "outputs": [
    {
     "name": "stdout",
     "output_type": "stream",
     "text": [
      "[6.0, 4.0]: error=1.32e-03, threshold=3.67e-05, is_converged=False\n",
      "[6.0, 5.0]: error=2.28e-04, threshold=3.67e-05, is_converged=False\n",
      "[6.0, 6.0]: error=7.93e-06, threshold=3.67e-05, is_converged=True\n",
      "[6.0, 7.0]: error=-1.59e-06, threshold=3.67e-05, is_converged=True\n",
      "[6.0, 8.0]: error=0.00e+00, threshold=3.67e-05, is_converged=True\n"
     ]
    }
   ],
   "source": [
    "n_at = len(crmc.converged.posinp)\n",
    "for job in crmc.queue:\n",
    "    print(\"[{:.1f}, {:.1f}]: error={:.2e}, threshold={:.2e}, is_converged={}\"\n",
    "          .format(*job.rmult, (job.logfile.energy-crmc.queue[-1].logfile.energy)/n_at,\n",
    "                  crmc.precision_per_atom, job.is_converged))"
   ]
  },
  {
   "cell_type": "code",
   "execution_count": 28,
   "metadata": {},
   "outputs": [
    {
     "data": {
      "image/png": "[encoded data removed]",
      "text/plain": [
       "<matplotlib.figure.Figure at 0x11dc2e6d8>"
      ]
     },
     "metadata": {},
     "output_type": "display_data"
    }
   ],
   "source": [
    "energies = [job.logfile.energy for job in crmc.queue]\n",
    "rmults = [job.rmult for job in crmc.queue]\n",
    "crmult = [rmult[1] for rmult in rmults]\n",
    "converged_energy = min(energies) + len(crmc.queue[0].posinp)*crmc.precision_per_atom\n",
    "\n",
    "fig=plt.figure()\n",
    "fig.patch.set_facecolor('white')  # When dark background\n",
    "plt.plot(crmult, energies, label=\"BigDFT results\", marker=\"o\", linestyle='')\n",
    "plt.plot(crmult, [converged_energy]*len(energies), label=\"Convergence threshold (Ha)\")\n",
    "plt.xlabel(\"crmult\")\n",
    "plt.ylabel(\"Energy (Ha)\")\n",
    "plt.legend()\n",
    "plt.show()"
   ]
  },
  {
   "cell_type": "markdown",
   "metadata": {},
   "source": [
    "Using a grid with a grid spacing of 0.36 and fine and coarse radius multiplying factors of 6.0 seem sufficient to obtain converged results within a precision of 10 meV per atom for the N$_2$ molecule."
   ]
  }
 ],
 "metadata": {
  "kernelspec": {
   "display_name": "Python 3",
   "language": "python",
   "name": "python3"
  },
  "language_info": {
   "codemirror_mode": {
    "name": "ipython",
    "version": 3
   },
   "file_extension": ".py",
   "mimetype": "text/x-python",
   "name": "python",
   "nbconvert_exporter": "python",
   "pygments_lexer": "ipython3",
   "version": "3.6.3"
  }
 },
 "nbformat": 4,
 "nbformat_minor": 2
}
