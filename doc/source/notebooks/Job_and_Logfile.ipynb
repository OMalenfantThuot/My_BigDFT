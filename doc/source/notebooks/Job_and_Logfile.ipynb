{
 "cells": [
  {
   "cell_type": "markdown",
   "metadata": {},
   "source": [
    "# Run BigDFT and manipulate its output files\n",
    "\n",
    "Job and Logfile classes"
   ]
  },
  {
   "cell_type": "code",
   "execution_count": 1,
   "metadata": {},
   "outputs": [],
   "source": [
    "from mybigdft import Logfile"
   ]
  },
  {
   "cell_type": "code",
   "execution_count": 2,
   "metadata": {},
   "outputs": [],
   "source": [
    "logname = \"../../../tests/log.yaml\"\n",
    "log = Logfile.from_file(logname)"
   ]
  },
  {
   "cell_type": "code",
   "execution_count": 3,
   "metadata": {},
   "outputs": [],
   "source": [
    "inp = log.inputparams"
   ]
  },
  {
   "cell_type": "code",
   "execution_count": 4,
   "metadata": {},
   "outputs": [],
   "source": [
    "from mybigdft import Job"
   ]
  },
  {
   "cell_type": "code",
   "execution_count": 5,
   "metadata": {},
   "outputs": [
    {
     "name": "stdout",
     "output_type": "stream",
     "text": [
      "/Users/maximemoriniere/Documents/Python/MyBigDFT/doc/source/notebooks\n",
      "/Users/maximemoriniere/Documents/bigdft/bigdft/build-1997/install/bin/bigdft-tool --name test -n 6 ...\n"
     ]
    }
   ],
   "source": [
    "with Job(inputparams=inp, name=\"test\") as job:\n",
    "    job.run(nmpi=6, nomp=3, dry_run=True)\n",
    "    job.clean(logfiles_dir=True)"
   ]
  },
  {
   "cell_type": "code",
   "execution_count": 9,
   "metadata": {},
   "outputs": [
    {
     "name": "stdout",
     "output_type": "stream",
     "text": [
      "energy\n",
      "\tjob: None\n",
      "\tlog: -19.884659235401838\n",
      "dipole\n",
      "\tjob: None\n",
      "\tlog: [-0.00051199, -0.00051199, -0.00055711]\n",
      "posinp\n",
      "\tjob: 2   angstroem\n",
      "free\n",
      "N   2.97630782434901e-23   6.87220595204354e-23   0.0107161998748779\n",
      "N  -1.10434491945017e-23  -4.87342174483075e-23   1.10427379608154\n",
      "\n",
      "\tlog: 2   angstroem\n",
      "free\n",
      "N   2.97630782434901e-23   6.87220595204354e-23   0.0107161998748779\n",
      "N  -1.10434491945017e-23  -4.87342174483075e-23   1.10427379608154\n",
      "\n"
     ]
    }
   ],
   "source": [
    "for attr in [\"energy\", \"dipole\", \"posinp\"]:\n",
    "    print(f\"{attr}\\n\\tjob: {getattr(job.logfile, attr)}\\n\\tlog: {getattr(log, attr)}\")"
   ]
  },
  {
   "cell_type": "code",
   "execution_count": 10,
   "metadata": {},
   "outputs": [
    {
     "name": "stdout",
     "output_type": "stream",
     "text": [
      "/Users/maximemoriniere/Documents/Python/MyBigDFT/doc/source/notebooks\n",
      "mpirun -np 6 /Users/maximemoriniere/Documents/bigdft/bigdft/build-1997/install/bin/bigdft test ...\n",
      " <BigDFT> log of the run will be written in logfile: ./log-test.yaml\n",
      "\n"
     ]
    }
   ],
   "source": [
    "with Job(inputparams=inp, name=\"test\") as job:\n",
    "    job.run(nmpi=6, nomp=3, force_run=True)\n",
    "    job.clean()"
   ]
  },
  {
   "cell_type": "code",
   "execution_count": 11,
   "metadata": {},
   "outputs": [
    {
     "name": "stdout",
     "output_type": "stream",
     "text": [
      "energy\n",
      "\tjob: -19.884659235399393\n",
      "\tlog: -19.884659235401838\n",
      "dipole\n",
      "\tjob: [-0.00051199, -0.00051199, -0.00055711]\n",
      "\tlog: [-0.00051199, -0.00051199, -0.00055711]\n",
      "posinp\n",
      "\tjob: 2   angstroem\n",
      "free\n",
      "N   2.97630782434901e-23   6.87220595204354e-23   0.0107161998748779\n",
      "N  -1.10434491945017e-23  -4.87342174483075e-23   1.10427379608154\n",
      "\n",
      "\tlog: 2   angstroem\n",
      "free\n",
      "N   2.97630782434901e-23   6.87220595204354e-23   0.0107161998748779\n",
      "N  -1.10434491945017e-23  -4.87342174483075e-23   1.10427379608154\n",
      "\n"
     ]
    }
   ],
   "source": [
    "for attr in [\"energy\", \"dipole\", \"posinp\"]:\n",
    "    print(f\"{attr}\\n\\tjob: {getattr(job.logfile, attr)}\\n\\tlog: {getattr(log, attr)}\")"
   ]
  },
  {
   "cell_type": "code",
   "execution_count": 7,
   "metadata": {},
   "outputs": [
    {
     "ename": "ZeroDivisionError",
     "evalue": "division by zero",
     "output_type": "error",
     "traceback": [
      "\u001b[0;31m---------------------------------------------------------------------------\u001b[0m",
      "\u001b[0;31mZeroDivisionError\u001b[0m                         Traceback (most recent call last)",
      "\u001b[0;32m<ipython-input-7-9ab73e148374>\u001b[0m in \u001b[0;36m<module>\u001b[0;34m()\u001b[0m\n\u001b[0;32m----> 1\u001b[0;31m \u001b[0;36m0\u001b[0m\u001b[0;34m/\u001b[0m\u001b[0;36m0\u001b[0m\u001b[0;34m\u001b[0m\u001b[0m\n\u001b[0m",
      "\u001b[0;31mZeroDivisionError\u001b[0m: division by zero"
     ]
    }
   ],
   "source": [
    "0/0"
   ]
  },
  {
   "cell_type": "code",
   "execution_count": null,
   "metadata": {},
   "outputs": [],
   "source": [
    "inp = InputParams({\"posinp\": {\n",
    "    \"units\": \"angstroem\",\n",
    "    \"cell\": [40, \".inf\", \".inf\"],\n",
    "    \"positions\": [\n",
    "        {'N': [2.97630782434901e-23, 6.87220595204354e-23, 0.0107161998748779]},\n",
    "        {'N': [-1.10434491945017e-23, -4.87342174483075e-23, 1.10427379608154]},\n",
    "    ]\n",
    "}})\n",
    "print(inp)\n",
    "print(inp.posinp)\n",
    "with Job(inputparams=inp, name=\"test\") as job:\n",
    "    job.run(nmpi=6, nomp=3, dry_run=True)\n",
    "    job.clean()"
   ]
  },
  {
   "cell_type": "code",
   "execution_count": null,
   "metadata": {},
   "outputs": [],
   "source": [
    "inp = InputParams({\"posinp\": {\n",
    "    \"units\": \"angstroem\",\n",
    "    \"cell\": [40, \".inf\", \".inf\"],\n",
    "    \"positions\": [\n",
    "        {'N': [0.0107161998748779, 2.97630782434901e-23, 6.87220595204354e-23]},\n",
    "        {'N': [1.10427379608154, -1.10434491945017e-23, -4.87342174483075e-23]},\n",
    "    ]\n",
    "}})\n",
    "print(inp)\n",
    "print(inp.posinp)\n",
    "with Job(inputparams=inp, name=\"test\") as job:\n",
    "    job.run(nmpi=6, nomp=3, force_run=True)\n",
    "    job.clean()"
   ]
  },
  {
   "cell_type": "code",
   "execution_count": null,
   "metadata": {},
   "outputs": [],
   "source": [
    "job.logfile.boundary_conditions"
   ]
  },
  {
   "cell_type": "code",
   "execution_count": null,
   "metadata": {},
   "outputs": [],
   "source": []
  }
 ],
 "metadata": {
  "kernelspec": {
   "display_name": "Python 3",
   "language": "python",
   "name": "python3"
  },
  "language_info": {
   "codemirror_mode": {
    "name": "ipython",
    "version": 3
   },
   "file_extension": ".py",
   "mimetype": "text/x-python",
   "name": "python",
   "nbconvert_exporter": "python",
   "pygments_lexer": "ipython3",
   "version": "3.6.3"
  }
 },
 "nbformat": 4,
 "nbformat_minor": 2
}
