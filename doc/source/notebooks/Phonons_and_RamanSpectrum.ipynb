{
 "cells": [
  {
   "cell_type": "markdown",
   "metadata": {},
   "source": [
    "# Compute the phonons and the Raman spectrum"
   ]
  },
  {
   "cell_type": "code",
   "execution_count": 1,
   "metadata": {},
   "outputs": [],
   "source": [
    "from __future__ import print_function\n",
    "from mybigdft.workflows import Phonons, RamanSpectrum\n",
    "from mybigdft import Job, Posinp, Atom, InputParams"
   ]
  },
  {
   "cell_type": "code",
   "execution_count": 2,
   "metadata": {},
   "outputs": [],
   "source": [
    "N2_ref = \"\"\"2  angstroem\n",
    "free\n",
    "N    2.976307744763e-23    6.872205902435e-23    1.071620018790e-02\n",
    "N   -1.104344885754e-23   -4.873421785298e-23    1.104273795769e+00\"\"\"\n",
    "pos = Posinp.from_string(N2_ref)\n",
    "gs = Job(posinp=pos, name='N2', run_dir='../../../tests/phonons_N2')\n",
    "phonons = Phonons(gs)"
   ]
  },
  {
   "cell_type": "code",
   "execution_count": 3,
   "metadata": {},
   "outputs": [
    {
     "name": "stdout",
     "output_type": "stream",
     "text": [
      "/Users/maximemoriniere/Documents/Python/MyBigDFT/tests/phonons_N2/atom0000/x+\n",
      "Data directory not found for reference calculation.\n",
      "Logfile log-N2.yaml already exists!\n",
      "\n",
      "/Users/maximemoriniere/Documents/Python/MyBigDFT/tests/phonons_N2/atom0000/x-\n",
      "Data directory not found for reference calculation.\n",
      "Logfile log-N2.yaml already exists!\n",
      "\n",
      "/Users/maximemoriniere/Documents/Python/MyBigDFT/tests/phonons_N2/atom0000/y+\n",
      "Data directory not found for reference calculation.\n",
      "Logfile log-N2.yaml already exists!\n",
      "\n",
      "/Users/maximemoriniere/Documents/Python/MyBigDFT/tests/phonons_N2/atom0000/y-\n",
      "Data directory not found for reference calculation.\n",
      "Logfile log-N2.yaml already exists!\n",
      "\n",
      "/Users/maximemoriniere/Documents/Python/MyBigDFT/tests/phonons_N2/atom0000/z+\n",
      "Data directory not found for reference calculation.\n",
      "Logfile log-N2.yaml already exists!\n",
      "\n",
      "/Users/maximemoriniere/Documents/Python/MyBigDFT/tests/phonons_N2/atom0000/z-\n",
      "Data directory not found for reference calculation.\n",
      "Logfile log-N2.yaml already exists!\n",
      "\n",
      "/Users/maximemoriniere/Documents/Python/MyBigDFT/tests/phonons_N2/atom0001/x+\n",
      "Data directory not found for reference calculation.\n",
      "Logfile log-N2.yaml already exists!\n",
      "\n",
      "/Users/maximemoriniere/Documents/Python/MyBigDFT/tests/phonons_N2/atom0001/x-\n",
      "Data directory not found for reference calculation.\n",
      "Logfile log-N2.yaml already exists!\n",
      "\n",
      "/Users/maximemoriniere/Documents/Python/MyBigDFT/tests/phonons_N2/atom0001/y+\n",
      "Data directory not found for reference calculation.\n",
      "Logfile log-N2.yaml already exists!\n",
      "\n",
      "/Users/maximemoriniere/Documents/Python/MyBigDFT/tests/phonons_N2/atom0001/y-\n",
      "Data directory not found for reference calculation.\n",
      "Logfile log-N2.yaml already exists!\n",
      "\n",
      "/Users/maximemoriniere/Documents/Python/MyBigDFT/tests/phonons_N2/atom0001/z+\n",
      "Data directory not found for reference calculation.\n",
      "Logfile log-N2.yaml already exists!\n",
      "\n",
      "/Users/maximemoriniere/Documents/Python/MyBigDFT/tests/phonons_N2/atom0001/z-\n",
      "Data directory not found for reference calculation.\n",
      "Logfile log-N2.yaml already exists!\n",
      "\n"
     ]
    }
   ],
   "source": [
    "phonons.run(nmpi=2, nomp=2)"
   ]
  },
  {
   "cell_type": "code",
   "execution_count": 4,
   "metadata": {},
   "outputs": [
    {
     "data": {
      "text/plain": [
       "array([2.38632021e+03, 5.52930617e-06, 2.01915074e+01, 2.01915188e+01,\n",
       "       3.08714641e-06, 2.76516701e-03])"
      ]
     },
     "execution_count": 4,
     "metadata": {},
     "output_type": "execute_result"
    }
   ],
   "source": [
    "phonons.energies['cm^-1']"
   ]
  },
  {
   "cell_type": "code",
   "execution_count": 5,
   "metadata": {},
   "outputs": [
    {
     "name": "stdout",
     "output_type": "stream",
     "text": [
      "/Users/maximemoriniere/Documents/Python/MyBigDFT/tests/phonons_N2/atom0000/x+\n",
      "Data directory not found for reference calculation.\n",
      "Logfile log-N2.yaml already exists!\n",
      "\n",
      "/Users/maximemoriniere/Documents/Python/MyBigDFT/tests/phonons_N2/atom0000/x+\n",
      "Data directory not found for reference calculation.\n",
      "Logfile log-N2_EF_along_x.yaml already exists!\n",
      "\n",
      "/Users/maximemoriniere/Documents/Python/MyBigDFT/tests/phonons_N2/atom0000/x+\n",
      "Data directory not found for reference calculation.\n",
      "Logfile log-N2_EF_along_y.yaml already exists!\n",
      "\n",
      "/Users/maximemoriniere/Documents/Python/MyBigDFT/tests/phonons_N2/atom0000/x+\n",
      "Data directory not found for reference calculation.\n",
      "Logfile log-N2_EF_along_z.yaml already exists!\n",
      "\n",
      "/Users/maximemoriniere/Documents/Python/MyBigDFT/tests/phonons_N2/atom0000/x-\n",
      "Data directory not found for reference calculation.\n",
      "Logfile log-N2.yaml already exists!\n",
      "\n",
      "/Users/maximemoriniere/Documents/Python/MyBigDFT/tests/phonons_N2/atom0000/x-\n",
      "Data directory not found for reference calculation.\n",
      "Logfile log-N2_EF_along_x.yaml already exists!\n",
      "\n",
      "/Users/maximemoriniere/Documents/Python/MyBigDFT/tests/phonons_N2/atom0000/x-\n",
      "Data directory not found for reference calculation.\n",
      "Logfile log-N2_EF_along_y.yaml already exists!\n",
      "\n",
      "/Users/maximemoriniere/Documents/Python/MyBigDFT/tests/phonons_N2/atom0000/x-\n",
      "Data directory not found for reference calculation.\n",
      "Logfile log-N2_EF_along_z.yaml already exists!\n",
      "\n",
      "/Users/maximemoriniere/Documents/Python/MyBigDFT/tests/phonons_N2/atom0000/y+\n",
      "Data directory not found for reference calculation.\n",
      "Logfile log-N2.yaml already exists!\n",
      "\n",
      "/Users/maximemoriniere/Documents/Python/MyBigDFT/tests/phonons_N2/atom0000/y+\n",
      "Data directory not found for reference calculation.\n",
      "Logfile log-N2_EF_along_x.yaml already exists!\n",
      "\n",
      "/Users/maximemoriniere/Documents/Python/MyBigDFT/tests/phonons_N2/atom0000/y+\n",
      "Data directory not found for reference calculation.\n",
      "Logfile log-N2_EF_along_y.yaml already exists!\n",
      "\n",
      "/Users/maximemoriniere/Documents/Python/MyBigDFT/tests/phonons_N2/atom0000/y+\n",
      "Data directory not found for reference calculation.\n",
      "Logfile log-N2_EF_along_z.yaml already exists!\n",
      "\n",
      "/Users/maximemoriniere/Documents/Python/MyBigDFT/tests/phonons_N2/atom0000/y-\n",
      "Data directory not found for reference calculation.\n",
      "Logfile log-N2.yaml already exists!\n",
      "\n",
      "/Users/maximemoriniere/Documents/Python/MyBigDFT/tests/phonons_N2/atom0000/y-\n",
      "Data directory not found for reference calculation.\n",
      "Logfile log-N2_EF_along_x.yaml already exists!\n",
      "\n",
      "/Users/maximemoriniere/Documents/Python/MyBigDFT/tests/phonons_N2/atom0000/y-\n",
      "Data directory not found for reference calculation.\n",
      "Logfile log-N2_EF_along_y.yaml already exists!\n",
      "\n",
      "/Users/maximemoriniere/Documents/Python/MyBigDFT/tests/phonons_N2/atom0000/y-\n",
      "Data directory not found for reference calculation.\n",
      "Logfile log-N2_EF_along_z.yaml already exists!\n",
      "\n",
      "/Users/maximemoriniere/Documents/Python/MyBigDFT/tests/phonons_N2/atom0000/z+\n",
      "Data directory not found for reference calculation.\n",
      "Logfile log-N2.yaml already exists!\n",
      "\n",
      "/Users/maximemoriniere/Documents/Python/MyBigDFT/tests/phonons_N2/atom0000/z+\n",
      "Data directory not found for reference calculation.\n",
      "Logfile log-N2_EF_along_x.yaml already exists!\n",
      "\n",
      "/Users/maximemoriniere/Documents/Python/MyBigDFT/tests/phonons_N2/atom0000/z+\n",
      "Data directory not found for reference calculation.\n",
      "Logfile log-N2_EF_along_y.yaml already exists!\n",
      "\n",
      "/Users/maximemoriniere/Documents/Python/MyBigDFT/tests/phonons_N2/atom0000/z+\n",
      "Data directory not found for reference calculation.\n",
      "Logfile log-N2_EF_along_z.yaml already exists!\n",
      "\n",
      "/Users/maximemoriniere/Documents/Python/MyBigDFT/tests/phonons_N2/atom0000/z-\n",
      "Data directory not found for reference calculation.\n",
      "Logfile log-N2.yaml already exists!\n",
      "\n",
      "/Users/maximemoriniere/Documents/Python/MyBigDFT/tests/phonons_N2/atom0000/z-\n",
      "Data directory not found for reference calculation.\n",
      "Logfile log-N2_EF_along_x.yaml already exists!\n",
      "\n",
      "/Users/maximemoriniere/Documents/Python/MyBigDFT/tests/phonons_N2/atom0000/z-\n",
      "Data directory not found for reference calculation.\n",
      "Logfile log-N2_EF_along_y.yaml already exists!\n",
      "\n",
      "/Users/maximemoriniere/Documents/Python/MyBigDFT/tests/phonons_N2/atom0000/z-\n",
      "Data directory not found for reference calculation.\n",
      "Logfile log-N2_EF_along_z.yaml already exists!\n",
      "\n",
      "/Users/maximemoriniere/Documents/Python/MyBigDFT/tests/phonons_N2/atom0001/x+\n",
      "Data directory not found for reference calculation.\n",
      "Logfile log-N2.yaml already exists!\n",
      "\n",
      "/Users/maximemoriniere/Documents/Python/MyBigDFT/tests/phonons_N2/atom0001/x+\n",
      "Data directory not found for reference calculation.\n",
      "Logfile log-N2_EF_along_x.yaml already exists!\n",
      "\n",
      "/Users/maximemoriniere/Documents/Python/MyBigDFT/tests/phonons_N2/atom0001/x+\n",
      "Data directory not found for reference calculation.\n",
      "Logfile log-N2_EF_along_y.yaml already exists!\n",
      "\n",
      "/Users/maximemoriniere/Documents/Python/MyBigDFT/tests/phonons_N2/atom0001/x+\n",
      "Data directory not found for reference calculation.\n",
      "Logfile log-N2_EF_along_z.yaml already exists!\n",
      "\n",
      "/Users/maximemoriniere/Documents/Python/MyBigDFT/tests/phonons_N2/atom0001/x-\n",
      "Data directory not found for reference calculation.\n",
      "Logfile log-N2.yaml already exists!\n",
      "\n",
      "/Users/maximemoriniere/Documents/Python/MyBigDFT/tests/phonons_N2/atom0001/x-\n",
      "Data directory not found for reference calculation.\n",
      "Logfile log-N2_EF_along_x.yaml already exists!\n",
      "\n",
      "/Users/maximemoriniere/Documents/Python/MyBigDFT/tests/phonons_N2/atom0001/x-\n",
      "Data directory not found for reference calculation.\n",
      "Logfile log-N2_EF_along_y.yaml already exists!\n",
      "\n",
      "/Users/maximemoriniere/Documents/Python/MyBigDFT/tests/phonons_N2/atom0001/x-\n",
      "Data directory not found for reference calculation.\n",
      "Logfile log-N2_EF_along_z.yaml already exists!\n",
      "\n",
      "/Users/maximemoriniere/Documents/Python/MyBigDFT/tests/phonons_N2/atom0001/y+\n",
      "Data directory not found for reference calculation.\n",
      "Logfile log-N2.yaml already exists!\n",
      "\n",
      "/Users/maximemoriniere/Documents/Python/MyBigDFT/tests/phonons_N2/atom0001/y+\n",
      "Data directory not found for reference calculation.\n",
      "Logfile log-N2_EF_along_x.yaml already exists!\n",
      "\n",
      "/Users/maximemoriniere/Documents/Python/MyBigDFT/tests/phonons_N2/atom0001/y+\n",
      "Data directory not found for reference calculation.\n",
      "Logfile log-N2_EF_along_y.yaml already exists!\n",
      "\n",
      "/Users/maximemoriniere/Documents/Python/MyBigDFT/tests/phonons_N2/atom0001/y+\n",
      "Data directory not found for reference calculation.\n",
      "Logfile log-N2_EF_along_z.yaml already exists!\n",
      "\n",
      "/Users/maximemoriniere/Documents/Python/MyBigDFT/tests/phonons_N2/atom0001/y-\n",
      "Data directory not found for reference calculation.\n",
      "Logfile log-N2.yaml already exists!\n",
      "\n",
      "/Users/maximemoriniere/Documents/Python/MyBigDFT/tests/phonons_N2/atom0001/y-\n",
      "Data directory not found for reference calculation.\n",
      "Logfile log-N2_EF_along_x.yaml already exists!\n",
      "\n",
      "/Users/maximemoriniere/Documents/Python/MyBigDFT/tests/phonons_N2/atom0001/y-\n",
      "Data directory not found for reference calculation.\n",
      "Logfile log-N2_EF_along_y.yaml already exists!\n",
      "\n",
      "/Users/maximemoriniere/Documents/Python/MyBigDFT/tests/phonons_N2/atom0001/y-\n",
      "Data directory not found for reference calculation.\n",
      "Logfile log-N2_EF_along_z.yaml already exists!\n",
      "\n",
      "/Users/maximemoriniere/Documents/Python/MyBigDFT/tests/phonons_N2/atom0001/z+\n",
      "Data directory not found for reference calculation.\n",
      "Logfile log-N2.yaml already exists!\n",
      "\n",
      "/Users/maximemoriniere/Documents/Python/MyBigDFT/tests/phonons_N2/atom0001/z+\n",
      "Data directory not found for reference calculation.\n",
      "Logfile log-N2_EF_along_x.yaml already exists!\n",
      "\n",
      "/Users/maximemoriniere/Documents/Python/MyBigDFT/tests/phonons_N2/atom0001/z+\n",
      "Data directory not found for reference calculation.\n",
      "Logfile log-N2_EF_along_y.yaml already exists!\n",
      "\n",
      "/Users/maximemoriniere/Documents/Python/MyBigDFT/tests/phonons_N2/atom0001/z+\n",
      "Data directory not found for reference calculation.\n",
      "Logfile log-N2_EF_along_z.yaml already exists!\n",
      "\n",
      "/Users/maximemoriniere/Documents/Python/MyBigDFT/tests/phonons_N2/atom0001/z-\n",
      "Data directory not found for reference calculation.\n",
      "Logfile log-N2.yaml already exists!\n",
      "\n",
      "/Users/maximemoriniere/Documents/Python/MyBigDFT/tests/phonons_N2/atom0001/z-\n",
      "Data directory not found for reference calculation.\n",
      "Logfile log-N2_EF_along_x.yaml already exists!\n",
      "\n",
      "/Users/maximemoriniere/Documents/Python/MyBigDFT/tests/phonons_N2/atom0001/z-\n",
      "Data directory not found for reference calculation.\n",
      "Logfile log-N2_EF_along_y.yaml already exists!\n",
      "\n",
      "/Users/maximemoriniere/Documents/Python/MyBigDFT/tests/phonons_N2/atom0001/z-\n",
      "Data directory not found for reference calculation.\n",
      "Logfile log-N2_EF_along_z.yaml already exists!\n",
      "\n"
     ]
    }
   ],
   "source": [
    "import warnings\n",
    "\n",
    "with warnings.catch_warnings():\n",
    "    warnings.simplefilter(\"ignore\")  # This catches the UserWarning raised\n",
    "    raman = RamanSpectrum(phonons)\n",
    "    raman.run(nmpi=2, nomp=2)"
   ]
  },
  {
   "cell_type": "code",
   "execution_count": 6,
   "metadata": {},
   "outputs": [
    {
     "data": {
      "text/plain": [
       "array([2.38632021e+03, 5.52930617e-06, 2.01915074e+01, 2.01915188e+01,\n",
       "       3.08714641e-06, 2.76516701e-03])"
      ]
     },
     "execution_count": 6,
     "metadata": {},
     "output_type": "execute_result"
    }
   ],
   "source": [
    "raman.energies['cm^-1']"
   ]
  },
  {
   "cell_type": "code",
   "execution_count": 7,
   "metadata": {},
   "outputs": [
    {
     "data": {
      "text/plain": [
       "array([2.25618074e+01, 4.08907417e-23, 1.08444042e+00, 1.07725869e+00,\n",
       "       1.42410782e-22, 3.03173050e-11])"
      ]
     },
     "execution_count": 7,
     "metadata": {},
     "output_type": "execute_result"
    }
   ],
   "source": [
    "raman.intensities"
   ]
  },
  {
   "cell_type": "code",
   "execution_count": 8,
   "metadata": {},
   "outputs": [
    {
     "data": {
      "text/plain": [
       "array([0.09374867, 0.73033043, 0.75      , 0.75      , 0.14281021,\n",
       "       0.09406008])"
      ]
     },
     "execution_count": 8,
     "metadata": {},
     "output_type": "execute_result"
    }
   ],
   "source": [
    "raman.depolarization_ratios"
   ]
  },
  {
   "cell_type": "code",
   "execution_count": null,
   "metadata": {},
   "outputs": [],
   "source": []
  }
 ],
 "metadata": {
  "kernelspec": {
   "display_name": "Python 3",
   "language": "python",
   "name": "python3"
  },
  "language_info": {
   "codemirror_mode": {
    "name": "ipython",
    "version": 3
   },
   "file_extension": ".py",
   "mimetype": "text/x-python",
   "name": "python",
   "nbconvert_exporter": "python",
   "pygments_lexer": "ipython3",
   "version": "3.6.3"
  }
 },
 "nbformat": 4,
 "nbformat_minor": 2
}
