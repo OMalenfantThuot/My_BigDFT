{
 "cells": [
  {
   "cell_type": "markdown",
   "metadata": {},
   "source": [
    "# Code your own polarizability tensor workflow, part 2\n",
    "\n",
    "The main goal of this notebook is to show how the code implemented in the previous exercise can be easily converted to a fully functional class deriving from the `AbstractWorkflow` class. \n",
    "\n",
    "We will stick to the polarizability tensor problem, in order to build on what was achieved in the previous exercises. The structure of this notebook is very similar to the previous ones. You can use the same resources to help you (especially the), while the solution to this exercise can be found [here](https://mmoriniere.gitlab.io/MyBigDFT/notebooks/Solution_03.html)."
   ]
  },
  {
   "cell_type": "markdown",
   "metadata": {},
   "source": [
    "## The [AbstractWorkflow](https://mmoriniere.gitlab.io/MyBigDFT/workflow.html#mybigdft.workflows.workflow.AbstractWorkflow) class\n",
    "\n",
    "You already saw that using the `Workflow` class allows to get a clean separation of the procedure to compute a quantity of interest:\n",
    "- first, the definition of the jobs to be run,\n",
    "- then the jobs are run,\n",
    "- and finally, the desired output can be computed from the results of the calculations. \n",
    "\n",
    "The goal of the `AbstractWorkflow` class is to ease the implementation of this type of workflow in a class that is meant to be general, *i.e.*, that can be applicable to a large class of systems, using a large set of possible input parameters. Such a class is meant to be used simply by:\n",
    "- initializing an instance of the class, setting the queue of jobs automatically,\n",
    "- running all the jobs of the workflow instance and performing the post-processing, all these actions being done by applying the `run` method.\n",
    "\n",
    "And that's it! \n",
    "\n",
    "Note that the post-processing procedure, which is defined in the class body, is automatically performed after all the jobs in the workflow queue. The quantities of interest (here, the polarizability tensor) are even used to set semi-private attributes, so that they can be easily accessed afterwards (don't worry, the last sentence should get clearer by the end of the notebook).\n",
    "\n",
    "Another interest of writing a class is that it enables you to add more functionalities to your class afterwards, such as adding another quantity to compute while running the post-processing procedure. Such changes would be readily available in your scripts or notebooks where you used that class: no need to modify those files one by one to make that functionality available there.\n",
    "\n",
    "\n",
    "To write such a class you will need to:\n",
    "- define which are the quantities to be computed while post-processing the results by:\n",
    "    * setting the value of the `POST_PROCESSING_ATTRIBUTES` list, containing the names of all the quantities of interest computed while post-processing,\n",
    "    * defining a property getter for each of these attributes, so as to access them afterwards,\n",
    "- override the `__init__` method, in order to make sure than the queue of jobs is correctly initialized,\n",
    "- define the `post_proc` method to compute and then set the values of the quantities of interest."
   ]
  },
  {
   "cell_type": "markdown",
   "metadata": {},
   "source": [
    "## Create a class\n",
    "\n",
    "The use of the `Workflow` class in the previous notebook showed you that having a clear separation of the initialization and post-processing of a workflow is important, notably to reduce the amount of code to copy and paste each time you want to change the system or the input parameters. We will go even further in that direction by writing a class deriving from the `AbstractWorkflow` class. You will see that the code you implemented in the previous exercise can be quickly adapted to meet our needs here.\n",
    "\n",
    "Part of the body of the class is already written, you must only code the following:\n",
    "- add the string `\"pol_tensor\"` to the POST_PROCESSING_ATTRIBUTES list,\n",
    "- initialize the queue of jobs in the `__init__` method,\n",
    "- define the `post_proc` method to compute the value of the `pol_tensor` attribute.\n",
    "\n",
    "The `__init__` method has `ground_state` as argument, which is meant to be a `Job` instance of the reference ground state. This job must be the first one in the queue. The three other jobs must be added by taking this one job as reference, only modifying the run directory (in the same manner as in the previous exercise) and the input parameters, so as to apply an electric field in each direction ($x$, $y$ and $z$). To that end, you must add an optional argument `ef_amplitude` to the `__init__` method to state the value of the electric field amplitude to be used in all the jobs (default value: `1.e-4`).\n",
    "\n",
    "The definition of the `pol_tensor` method is given so as to give you an example of how to actually code such methods. Note the use of a `_poltensor` attribute in that method and in the `post_proc` method; this is what we meant by \"semi-private attributes\" in the previous section: defining a property returning such a semi-private attribute ensures that you can access the `pol_tensor` attribute here, but it cannot be set. The only way of modifying the value of this attribute is to change the value of the `_poltensor`. This is actually what is done in the `post_proc` method!"
   ]
  },
  {
   "cell_type": "code",
   "execution_count": null,
   "metadata": {},
   "outputs": [],
   "source": [
    "import numpy as np\n",
    "# Do not forget to import some relevant stuff...\n",
    "from mybigdft.workflows.workflow import AbstractWorkflow\n",
    "\n",
    "class PolTensor(AbstractWorkflow):\n",
    "    \"\"\"\n",
    "    This workflow allows to compute the (electronic) polarizability\n",
    "    tensor of a given system.\n",
    "\n",
    "    The polarizability tensor represents the response of the charges of\n",
    "    a system (its dipole) to the application of an external electric\n",
    "    field.\n",
    "\n",
    "    To compute this polarizability tensor, some BigDFT calculations are\n",
    "    performed, where the system is subject to an external electric\n",
    "    field along each direction of space (:math:`x`, :math:`y` and\n",
    "    :math:`z`). The elements of the polarizability tensor are then\n",
    "    defined by the ratio of the delta of the dipole in one direction and\n",
    "    the delta of the electric field amplitudes:\n",
    "\n",
    "    .. math::\n",
    "\n",
    "        \\alpha_{ij} = \\frac{\\Delta D_i}{\\Delta E_j}\n",
    "\n",
    "    where :math:`i, j \\in \\{x, y, z\\}`, :math:`\\Delta D_i` is the\n",
    "    variation of the dipole along the :math:`i` direction and\n",
    "    :math:`\\Delta E_j` is the variation of the electric field amplitude\n",
    "    along the :math:`j` direction.\n",
    "    \"\"\"\n",
    "    \n",
    "    # Add \"pol_tensor\" to the list\n",
    "    POST_PROCESSING_ATTRIBUTES = []\n",
    "    \n",
    "    # Add ef_amplitude optional argument (default value: 1.e-4) \n",
    "    def __init__(self, ground_state, ):\n",
    "        \"\"\"\n",
    "        A PolTensor workflow is initialized by the job of the\n",
    "        ground-state of the system and an electric field amplitude.\n",
    "\n",
    "        Parameters\n",
    "        ----------\n",
    "        ground_state: Job\n",
    "            Reference job, specifying the base input parameters (where no\n",
    "            electric field is applied), the geometry of the system and the\n",
    "            base run directory of the calculations.\n",
    "        ef_amplitude: float\n",
    "            Electric field amplitude to be applied along each direction,\n",
    "            in atomic units (default to 1.e-4).\n",
    "        \"\"\"\n",
    "        self._ground_state = ground_state\n",
    "        # Set the queue of jobs thanks to ground_state and ef_amplitude \n",
    "        pt_queue = []\n",
    "        # This calls the __init__ method of the AbstractWorkflow class to\n",
    "        # set the queue, the run method (that calls the post_proc method\n",
    "        # automatically) and the default value of the post-processing\n",
    "        # attributes to None.\n",
    "        super().__init__(queue=pt_queue)\n",
    "    \n",
    "    @property\n",
    "    def ground_state(self):\n",
    "        \"\"\"\n",
    "        Set ground_state as a semi-private attribute: it can be accessed,\n",
    "        but it cannot be set.\n",
    "        \n",
    "        Returns\n",
    "        -------\n",
    "        Job\n",
    "            Reference job, where no electric field is applied.\n",
    "        \"\"\"\n",
    "        return self._ground_state\n",
    "    \n",
    "    @property\n",
    "    def pol_tensor(self):\n",
    "        \"\"\"\n",
    "        Set pol_tensor as a semi-private attribute: it can be accessed,\n",
    "        but it cannot be set.\n",
    "        \n",
    "        Returns\n",
    "        -------\n",
    "        numpy array of shape (3, 3)\n",
    "            Polarizability tensor of the system, using :attr:`ground_state`\n",
    "            as a reference job.\n",
    "        \"\"\"\n",
    "        return self._pol_tensor\n",
    "    \n",
    "    def post_proc(self):\n",
    "        \"\"\"\n",
    "        Compute and set the polarizability tensor of the system.\n",
    "        \"\"\"\n",
    "        pol_tensor = np.zeros((3, 3))\n",
    "        # Compute the polarizability tensor thanks to the jobs in the queue\n",
    "        self._pol_tensor = pol_tensor"
   ]
  },
  {
   "cell_type": "code",
   "execution_count": null,
   "metadata": {},
   "outputs": [],
   "source": [
    "# Let us test that class with for the N2 molecule\n",
    "from mybigdft import Job, Posinp, Atom, InputParams\n",
    "atoms = [Atom('N', [0, 0, 0]), Atom('N', [0, 0, 1.0935])]\n",
    "pos = Posinp(atoms, units=\"angstroem\", boundary_conditions=\"free\")\n",
    "inp = InputParams({\"dft\": {\"rmult\": [7, 9], \"hgrids\": 0.35}})\n",
    "\n",
    "# 1- Using non-default electric field amplitude:\n",
    "gs_1 = Job(posinp=pos, inputparams=inp, name=\"N2\",\n",
    "           run_dir=\"N2/pol_tensor/non_default/\")\n",
    "pt_wf_1 = PolTensor(gs_1, ef_amplitude=5.e-4)\n",
    "#   - correct electric field\n",
    "expected_efs_1 = [None, [5.e-4, 0, 0], [0, 5.e-4, 0], [0, 0, 5.e-4]]\n",
    "for job, ef in zip(pt_wf_1.queue, expected_efs_1):\n",
    "    assert job.inputparams[\"dft\"].get(\"elecfield\")\n",
    "#   - correct run directories\n",
    "expected_run_dirs_1 = [\"non_default/\", \"non_default/EF_along_x+\",\n",
    "                       \"non_default/EF_along_y+\", \"non_default/EF_along_z+\"]\n",
    "for job, run_dir in zip(pt_wf_1.queue, expected_run_dirs_1):\n",
    "    assert job.run_dir.endswith(run_dir)\n",
    "#   - correct pol_tensor attribute\n",
    "assert pt_wf_1.pol_tensor is None\n",
    "try:\n",
    "    pt_wf_2.pol_tensor = np.zeros((3, 3))\n",
    "except Exception as e:\n",
    "    print(repr(e))\n",
    "    \n",
    "# 2- Using default electric field amplitude:\n",
    "gs_2 = Job(posinp=pos, inputparams=inp, name=\"N2\",\n",
    "           run_dir=\"N2/pol_tensor/default/\")\n",
    "pt_wf_2 = PolTensor(gs_2)\n",
    "#   - correct electric field\n",
    "expected_efs_2 = [None, [1.e-4, 0, 0], [0, 1.e-4, 0], [0, 0, 1.e-4]]\n",
    "for job, ef in zip(pt_wf_2.queue, expected_efs_2):\n",
    "    assert job.inputparams[\"dft\"].get(\"elecfield\")\n",
    "#   - correct run directories\n",
    "expected_run_dirs_2 = [\"default/\", \"default/EF_along_x+\",\n",
    "                       \"default/EF_along_y+\", \"default/EF_along_z+\"]\n",
    "for job, run_dir in zip(pt_wf_2.queue, expected_run_dirs_2):\n",
    "    assert job.run_dir.endswith(run_dir)\n",
    "#   - correct pol_tensor attribute\n",
    "assert pt_wf_2.pol_tensor is None\n",
    "try:\n",
    "    pt_wf_2.pol_tensor = np.zeros((3, 3))\n",
    "except Exception as e:\n",
    "    print(repr(e))"
   ]
  },
  {
   "cell_type": "markdown",
   "metadata": {},
   "source": [
    "## Use that class!\n",
    "\n",
    "The `PolTensor` class now being implemented, you can use it in order to (effortlessly) study some problems, such as those given below."
   ]
  },
  {
   "cell_type": "markdown",
   "metadata": {},
   "source": [
    "- ### The polarizability tensor must not depend on the rotation of the initial molecule\n",
    "\n",
    "The atoms of the molecule here lie along the $z$ axis and the results should not change if the atoms lie along the $x$ or $y$ axis, for instance. Use the default electric field amplitude."
   ]
  },
  {
   "cell_type": "code",
   "execution_count": null,
   "metadata": {},
   "outputs": [],
   "source": [
    "# Compute the polarizability tensor when the molecule is along the x axis\n",
    "atoms_x = []\n",
    "pos_x = Posinp(atoms_x, )\n",
    "run_dir_x = \"N2/pol_tensor/atoms_along_x/\"\n",
    "pt_wf_x = \n",
    "pt_wf_x.run()\n",
    "\n",
    "# Compute the polarizability tensor when the molecule is along the x axis\n",
    "atoms_y = []\n",
    "pos_y = Posinp(atoms_y, )\n",
    "run_dir_y = \"N2/pol_tensor/atoms_along_y/\"\n",
    "pt_wf_y = \n",
    "pt_wf_y.run()"
   ]
  },
  {
   "cell_type": "code",
   "execution_count": null,
   "metadata": {},
   "outputs": [],
   "source": [
    "# Let us ensure that you obtained the expected results:\n",
    "# - both tensors are the same\n",
    "assert np.allclose(pt_wf_x.pol_tensor, pt_wf_y.pol_tensor)\n",
    "# - they have the same trace as the polarizability tensor where the molecule\n",
    "#   is along the z axis\n",
    "gs_z = Job(posinp=pos, inputparams=inp, name=\"N2\", run_dir=\"N2/pol_tensor/\")\n",
    "pt_wf_z = PolTensor(gs_z)\n",
    "pt_wf_z.run()\n",
    "print(pt_wf_z.pol_tensor)\n",
    "assert np.isclose(np.trace(pt_wf_x.pol_tensor), np.trace(pt_wf_z.pol_tensor))"
   ]
  },
  {
   "cell_type": "markdown",
   "metadata": {},
   "source": [
    "- ### What is the influence of the electric field amplitude on the results?\n",
    "\n",
    "Compute the polarizability tensor of the N$_2$ molecule using various electric field amplitudes and comment on how this affects the value of polarizability tensor."
   ]
  },
  {
   "cell_type": "code",
   "execution_count": null,
   "metadata": {},
   "outputs": [],
   "source": [
    "ef_amplitudes = [1.e-5, 5.e-4, 1.e-4, 5.e-3, 1.e-3]\n",
    "# Loop over the electric field amplitudes to compute various\n",
    "# polarizability tensors\n"
   ]
  },
  {
   "cell_type": "markdown",
   "metadata": {},
   "source": [
    "- ### How does the polarizability tensor depend on the system geometry?\n",
    "\n",
    "Modify the structure of the system by varying the distance between both atoms and comment on how this affects the value of polarizability tensor."
   ]
  },
  {
   "cell_type": "code",
   "execution_count": null,
   "metadata": {},
   "outputs": [],
   "source": [
    "distances = [1.0735, 1.0835, 1.0935, 1.1035, 1.1135]\n",
    "# Loop over the interatomic distances to compute various\n",
    "# polarizability tensors\n"
   ]
  },
  {
   "cell_type": "markdown",
   "metadata": {},
   "source": [
    "## Improve that class!\n",
    "\n",
    "Another interest of defining a class is that you can easily improve it. You then only have to implement minor changes to your already performed scripts or notebooks to see those changes.\n",
    "\n",
    "For instance, you often find the mean polarizability in the literature instead of the tensor itself. It is defined as the mean value of the polarizability tensor diagonal elements. Given that you already compute that tensor in the post-processing procedure, the addition of another post-processing attribute named \"mean_polarizability\" seems like a good idea."
   ]
  },
  {
   "cell_type": "markdown",
   "metadata": {},
   "source": [
    "- ### Add the mean polarizability post-processing attribute\n",
    "\n",
    "The goal here is to compute the mean polarizability while post-processing the calculations and make it available via an attribute. You therefore have to perform three changes to your class:\n",
    "- add `\"mean_polarizability\"` to `POST_PROCESSING_ATTRIBUTES`\n",
    "- define the `mean_polarizability` attribute as a property (hint: use `pol_tensor` as a template).\n",
    "- compute the mean polarizabilty in the `post_proc` method (hint: the sum of the diagonal elements of a tensor can be easily computed with numpy: simply use ``np.trace()``) and set the `mean_polarizability` attribute via its private counterpart (hint: again, use what is done for `pol_tensor` as a template).\n",
    "\n",
    "Once you are happy with your changes, run the whole notebook (click on \"Restart Kernel and run all cells\" under the \"Kernel\" tab). You should see that you did not need to modify any cell above to run the tests below. This is a reason why it is interesting to work with classes."
   ]
  },
  {
   "cell_type": "code",
   "execution_count": null,
   "metadata": {},
   "outputs": [],
   "source": [
    "assert np.isclose(pt_wf_z.mean_polarizability, 12.25712)\n",
    "assert pt_wf_x.mean_polarizability == pt_wf_y.mean_polarizability == pt_wf_z.mean_polarizability"
   ]
  },
  {
   "cell_type": "markdown",
   "metadata": {},
   "source": [
    "## Further step (optional)\n",
    "\n",
    "You could add the possibility to perform two BigDFT calculations per space coordinates in order to get more accurate results, while removing the reference job without any electric field. This means that six jobs must be run instead of four: two per space coordinate - one with a positive electric field amplitude, the other with a negative one (the run directory in that case must end by `x-` if the electric field is along the $x$ direction). This is especially relevant when the system under consideration has no dipole: BigDFT would still find a residual dipole, that might be large enough to give messy results (depending on the required accuracy). \n",
    "\n",
    "This exercise is optional as it might be a bit tedious for beginners. The main difficulty is to keep the ability of running only four jobs to get the polarizability tensor and the mean polarizability: you will have to add an argument `order` to the `__init__` method and make sure it triggers to correct behavior:\n",
    "* if `order=1`, then four jobs should be performed,\n",
    "* if `order=2`, then six jobs should be performed.\n",
    "\n",
    "This means you must make sure that the initialization of the queue depends on that parameter, ans so must be the computation of the polarizability tensor at the post-processing level.\n",
    "\n",
    "For those interested in doing it, you may want to use the same scheme as above: first use the Workflow class to set up the workflow using six different calculations before actually implementing that into the `PolTensor` class. You might even want to translate the workflow with six jobs to a new class deriving from `AbstractWorkflow `before actually modifying the `PolTensor` class. This should allow you to see which part of the code you have to modify, and to do it in a minimal fashion."
   ]
  }
 ],
 "metadata": {
  "kernelspec": {
   "display_name": "Python 3",
   "language": "python",
   "name": "python3"
  },
  "language_info": {
   "codemirror_mode": {
    "name": "ipython",
    "version": 3
   },
   "file_extension": ".py",
   "mimetype": "text/x-python",
   "name": "python",
   "nbconvert_exporter": "python",
   "pygments_lexer": "ipython3",
   "version": "3.6.3"
  },
  "nbsphinx": {
   "allow_errors": true
  }
 },
 "nbformat": 4,
 "nbformat_minor": 2
}
