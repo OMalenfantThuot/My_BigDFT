{
 "cells": [
  {
   "cell_type": "markdown",
   "metadata": {},
   "source": [
    "# Code your own polarizability tensor workflow, part 2\n",
    "\n",
    "The main goal of this notebook is to show how the code implemented in the previous exercise can be easily turned into a fully functional class deriving from the ``AbstractWorkflow`` class. This gives a general API to solve the same problem (here, finding the polarizability tensor), making it easily applicable to other cases (other system, other input parameters)."
   ]
  },
  {
   "cell_type": "markdown",
   "metadata": {},
   "source": [
    "## Create a class deriving from the AbstractWorkflow class\n",
    "\n",
    "If you want to \n",
    "You can quickly re-use the code you implemented in the previous exercise so as to define."
   ]
  },
  {
   "cell_type": "code",
   "execution_count": null,
   "metadata": {},
   "outputs": [],
   "source": []
  },
  {
   "cell_type": "markdown",
   "metadata": {},
   "source": [
    "## Use that class!\n",
    "\n",
    "Having defined a class, you now are able to use it in order to effortlessly study some problems, such as those given below."
   ]
  },
  {
   "cell_type": "markdown",
   "metadata": {},
   "source": [
    "- ### The polarizability tensor must not depend on the rotation of the initial molecule\n",
    "\n",
    "The atoms of the molecule here lie along the $z$ axis and the results should not change if the atoms lie along the $x$ and $y$ axis, for instance."
   ]
  },
  {
   "cell_type": "code",
   "execution_count": null,
   "metadata": {},
   "outputs": [],
   "source": []
  },
  {
   "cell_type": "markdown",
   "metadata": {},
   "source": [
    "- ### What is the influence of the electric field amplitude on the results?"
   ]
  },
  {
   "cell_type": "code",
   "execution_count": null,
   "metadata": {},
   "outputs": [],
   "source": []
  },
  {
   "cell_type": "markdown",
   "metadata": {},
   "source": [
    "- ### How does the polarizability tensor depend on the system geometry?\n",
    "\n",
    "You can modify the structure by changing the distance between the atoms."
   ]
  },
  {
   "cell_type": "code",
   "execution_count": null,
   "metadata": {},
   "outputs": [],
   "source": []
  },
  {
   "cell_type": "markdown",
   "metadata": {},
   "source": [
    "## Improve that class!\n",
    "\n",
    "One other interest of defining such a class is that you can easily improve it. You then have to do minor changes to your already performed scripts or notebooks to see those changes. For instance, you often find the mean polarizability in the literature instead of the tensor itself. This mean polarizability is defined as the mean value of the polarizability tensor diagonal elements. Given that you compute the polarizability tensor in the post-processing procedure, it is "
   ]
  },
  {
   "cell_type": "markdown",
   "metadata": {},
   "source": [
    "- ### Add the mean polarizability post-processing attribute\n",
    "\n",
    "The goal here is to compute the mean polarizability while post-processing the calculations and make it available via an attribute. You therefore have to perform three changes to your class:\n",
    "- add `\"mean_polarizability\"` to `POST_PROCESSING_ATTRIBUTES`\n",
    "- define the `mean_polarizability` attribute as a property (hint: use `pol_tensor` as a template).\n",
    "- compute the mean polarizabilty in the `post_proc` method (hint: the sum of the diagonal elements of a tensor can be easily computed with numpy: simply use ``np.trace()``) and set the `mean_polarizability` attribute via its private counterpart (hint: again, use `pol_tensor` as a template)."
   ]
  },
  {
   "cell_type": "code",
   "execution_count": null,
   "metadata": {},
   "outputs": [],
   "source": []
  },
  {
   "cell_type": "markdown",
   "metadata": {},
   "source": [
    "## Further step (optional)\n",
    "\n",
    "You could add the possibility to perform two BigDFT calculations per space coordinates in order to get more accurate results, while removing the reference job without any electric field. This means that 6 jobs must be run instead of 4: two per space coordinate - one with a positive electric field amplitude, the other with a negative one. This is especially relevant when the system under consideration has no dipole: BigDFT would still find a residual dipole, that might be large enough to give messy results (depending on the required accuracy). This can be tedious (it is but a variation of the present exercise), and you might want to use the same scheme as above: first use the Workflow class, and then implement that into the the ``PolTensor`` class. The difficulty is to keep the ability of running only four jobs to get the polarizability tensor and the mean polarizability: you will have to add an argument \"order\" to the \\__init\\__ method and make sure it triggers to correct behaviour. You might therefore want to translate the workflow with 6 jobs to a new class deriving from AbstractWorkflow before actually modifying the ``PolTensor`` class. This should allow you to see which part of the code you have to modify, and to do it in a minimal fashion."
   ]
  },
  {
   "cell_type": "code",
   "execution_count": null,
   "metadata": {},
   "outputs": [],
   "source": []
  }
 ],
 "metadata": {
  "kernelspec": {
   "display_name": "Python 3",
   "language": "python",
   "name": "python3"
  },
  "language_info": {
   "codemirror_mode": {
    "name": "ipython",
    "version": 3
   },
   "file_extension": ".py",
   "mimetype": "text/x-python",
   "name": "python",
   "nbconvert_exporter": "python",
   "pygments_lexer": "ipython3",
   "version": "3.6.3"
  },
  "nbsphinx": {
   "allow_errors": true
  }
 },
 "nbformat": 4,
 "nbformat_minor": 2
}
