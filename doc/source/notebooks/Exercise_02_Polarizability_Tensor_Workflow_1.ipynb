{
 "cells": [
  {
   "cell_type": "markdown",
   "metadata": {},
   "source": [
    "# Code your own polarizability tensor workflow, part 1\n",
    "\n",
    "This main goal of this notebook is to show how the ``Workflow`` class can be used to quickly implement of a workflow (that is, to define a queue of BigDFT jobs to be run in order to compute a quantity afterwards, as a post-processing procedure)."
   ]
  },
  {
   "cell_type": "markdown",
   "metadata": {},
   "source": [
    "## Using the Workflow class\n",
    "\n",
    "This is a three-step process:\n",
    "- first, define a list of jobs so as to initialize the workflow,\n",
    "- then run the workflow (all the jobs will be performed sequentially),\n",
    "- finally, post-process the results of the calculations to get the quantity of interest, here the polarizability tensor."
   ]
  },
  {
   "cell_type": "markdown",
   "metadata": {},
   "source": [
    "### Define your worflow\n",
    "\n",
    "Only the base classes of the ``MyBigDFT`` package are required to do that, and might also require the help of extra packages such as ``numpy`` (you should not need it yet, though)."
   ]
  },
  {
   "cell_type": "code",
   "execution_count": 1,
   "metadata": {},
   "outputs": [],
   "source": [
    "from mybigdft import Workflow, InputParams, Posinp, Atom, Job\n",
    "import numpy as np\n",
    "\n",
    "# Main input variables:\n",
    "# - use the optimized structure for the N2 molecule (found using the\n",
    "#   LDA exchange-correlation functional)\n",
    "atoms = [Atom('N', [0, 0, 0]), Atom('N', [0, 0, 1.0935])]\n",
    "pos = Posinp(atoms, units=\"angstroem\", boundary_conditions=\"free\")\n",
    "# - use some non-default input parameters to get high quality results\n",
    "inp = InputParams({\"dft\": {\"rmult\": [7, 9], \"hgrids\": 0.35}})\n",
    "# Electric field amplitude to be applied in each direction\n",
    "ef_amplitude = 1.e-4\n",
    "\n",
    "# Initialize the queue of jobs in order to be able to compute the \n",
    "# polarizability tensor\n",
    "pt_queue = []\n",
    "pt_wf = Workflow(queue=pt_queue)"
   ]
  },
  {
   "cell_type": "markdown",
   "metadata": {},
   "source": [
    "### Run the jobs of your workflow\n",
    "\n",
    "Nothing important to code here, as you might only want to change the value of the attributes to suit your needs. "
   ]
  },
  {
   "cell_type": "code",
   "execution_count": 2,
   "metadata": {},
   "outputs": [],
   "source": [
    "pt_wf.run(nmpi=6, nomp=3, force_run=True)"
   ]
  },
  {
   "cell_type": "markdown",
   "metadata": {},
   "source": [
    "Be sure to remove the ``force_run`` argument when you are happy with the results of the workflow: this means that the jobs will not have to be run again if you decide to run the notebook again from the beginning."
   ]
  },
  {
   "cell_type": "markdown",
   "metadata": {},
   "source": [
    "### Post-process your results\n",
    "\n",
    "Now that you ran the workflow, you can use the results to extract meaningful quantities. You should be able to do the post-processing without having to add another argument to the ``post_proc`` function (you may want to add some attributes to the ``Job`` instances before running the workflow)."
   ]
  },
  {
   "cell_type": "code",
   "execution_count": 3,
   "metadata": {},
   "outputs": [],
   "source": [
    "def post_proc(workflow):\n",
    "    # Use the logfile of the calculations run by the workflow to\n",
    "    # extract the polarizability tensor. Hint: use the 'dipole' \n",
    "    # attribute of the logfile to extract the dipole of the\n",
    "    pol_tensor = np.zeros((3, 3))\n",
    "    return pol_tensor"
   ]
  },
  {
   "cell_type": "code",
   "execution_count": 4,
   "metadata": {},
   "outputs": [],
   "source": [
    "# Run the post-processing of the workflow to compute\n",
    "pol_tensor = post_proc(pt_wf)\n",
    "print(pol_tensor)"
   ]
  },
  {
   "cell_type": "code",
   "execution_count": 5,
   "metadata": {},
   "outputs": [],
   "source": [
    "# Make sure your results are correct\n",
    "expected_pol_tensor = np.zeros((3, 3))\n",
    "assert np.array_equiv(pol_tensor, expected_pol_tensor)"
   ]
  },
  {
   "cell_type": "code",
   "execution_count": null,
   "metadata": {},
   "outputs": [],
   "source": []
  }
 ],
 "metadata": {
  "kernelspec": {
   "display_name": "Python 3",
   "language": "python",
   "name": "python3"
  },
  "language_info": {
   "codemirror_mode": {
    "name": "ipython",
    "version": 3
   },
   "file_extension": ".py",
   "mimetype": "text/x-python",
   "name": "python",
   "nbconvert_exporter": "python",
   "pygments_lexer": "ipython3",
   "version": "3.6.3"
  },
  "nbsphinx": {
   "allow_errors": true
  }
 },
 "nbformat": 4,
 "nbformat_minor": 2
}
